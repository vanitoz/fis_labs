{
 "cells": [
  {
   "cell_type": "code",
   "execution_count": 17,
   "metadata": {},
   "outputs": [],
   "source": [
    "import random"
   ]
  },
  {
   "cell_type": "code",
   "execution_count": 18,
   "metadata": {},
   "outputs": [],
   "source": [
    "def show_rolls(dice):\n",
    "    print('The die rolls are: ', end = ' ')\n",
    "    for d in dice:\n",
    "        print(str(d) +' ', end = '')"
   ]
  },
  {
   "cell_type": "code",
   "execution_count": 19,
   "metadata": {},
   "outputs": [],
   "source": [
    "score = 0\n",
    "score_list=[]"
   ]
  },
  {
   "cell_type": "code",
   "execution_count": 31,
   "metadata": {},
   "outputs": [
    {
     "name": "stdout",
     "output_type": "stream",
     "text": [
      "The die rolls are:  5 3 1 2 6 "
     ]
    },
    {
     "name": "stdin",
     "output_type": "stream",
     "text": [
      "Which dice do you want to reroll stop\n"
     ]
    },
    {
     "name": "stdout",
     "output_type": "stream",
     "text": [
      "0\n"
     ]
    }
   ],
   "source": [
    "game_over = False\n",
    "while not game_over:\n",
    "    dice = []\n",
    "    for d in range(5):\n",
    "        dice.append(random.randint(1,6))\n",
    "\n",
    "    show_rolls(dice)\n",
    "\n",
    "    reroll = input('Which dice do you want to reroll')\n",
    "    \n",
    "    try:\n",
    "        if reroll == 'stop' :\n",
    "            print(score)\n",
    "            break\n",
    "        else:\n",
    "            reroll = reroll.split()\n",
    "            reroll = [int(i)-1 for i in reroll]\n",
    "    except:\n",
    "        print('Invalid Entry')\n",
    "\n",
    "    for index in reroll:\n",
    "        dice[index] = random.randint(1,6)\n",
    "\n",
    "    show_rolls(dice)\n",
    "\n",
    "    number_valid = False\n",
    "    while not number_valid:\n",
    "        number_to_score = int(input('What number do you want to score'))\n",
    "\n",
    "        if number_to_score not in score_list:\n",
    "            number_valid = True \n",
    "        else:\n",
    "            print('You have already scored that number')\n",
    "            print('You have scored numbers ' , end='')\n",
    "            for num in score_list:\n",
    "                print(str(num)+ ' ', end='')\n",
    "            print()\n",
    "\n",
    "\n",
    "    score_list.append(number_to_score)\n",
    "\n",
    "    for d in dice:\n",
    "        if d == number_to_score:\n",
    "            score+=d\n",
    "\n",
    "    print('Your score is ' + str(score))\n",
    "    \n",
    "    if len(score_list)==6:\n",
    "        game_over = True"
   ]
  },
  {
   "cell_type": "code",
   "execution_count": null,
   "metadata": {},
   "outputs": [],
   "source": []
  }
 ],
 "metadata": {
  "kernelspec": {
   "display_name": "Python 3",
   "language": "python",
   "name": "python3"
  },
  "language_info": {
   "codemirror_mode": {
    "name": "ipython",
    "version": 3
   },
   "file_extension": ".py",
   "mimetype": "text/x-python",
   "name": "python",
   "nbconvert_exporter": "python",
   "pygments_lexer": "ipython3",
   "version": "3.8.3"
  }
 },
 "nbformat": 4,
 "nbformat_minor": 4
}
