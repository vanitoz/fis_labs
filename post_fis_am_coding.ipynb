{
 "cells": [
  {
   "cell_type": "markdown",
   "metadata": {},
   "source": [
    "Trolls are attacking your comment section!\n",
    "\n",
    "A common way to deal with this situation is to remove all of the vowels from the trolls' comments, neutralizing the threat.\n",
    "\n",
    "Your task is to write a function that takes a string and return a new string with all vowels removed.\n",
    "\n",
    "For example, the string \"This website is for losers LOL!\" would become \"Ths wbst s fr lsrs LL!\".\n",
    "\n",
    "Note: for this kata y isn't considered a vowel.\n",
    "\n",
    "link :  https://www.codewars.com/kata/52fba66badcd10859f00097e/train/python"
   ]
  },
  {
   "cell_type": "code",
   "execution_count": null,
   "metadata": {},
   "outputs": [],
   "source": [
    "def disemvowel(string_):\n",
    "    vowels = 'AEIOUaeiou'\n",
    "    for v in vowels:\n",
    "        if v in string_:\n",
    "            string_ = string_.replace(v, '')\n",
    "    return string_"
   ]
  },
  {
   "cell_type": "code",
   "execution_count": null,
   "metadata": {},
   "outputs": [],
   "source": [
    "disemvowel(\"This website is for losers LOL!\")"
   ]
  },
  {
   "cell_type": "markdown",
   "metadata": {},
   "source": [
    "In this kata you are required to, given a string, replace every letter with its position in the alphabet.\n",
    "\n",
    "If anything in the text isn't a letter, ignore it and don't return it.\n",
    "\n",
    "\"a\" = 1, \"b\" = 2, etc.\n",
    "\n",
    "alphabet_position(\"The sunset sets at twelve o' clock.\")\n",
    "Should return \"20 8 5 19 21 14 19 5 20 19 5 20 19 1 20 20 23 5 12 22 5 15 3 12 15 3 11\" (as a string)\n",
    "\n",
    "link : https://www.codewars.com/kata/546f922b54af40e1e90001da/train/python"
   ]
  },
  {
   "cell_type": "code",
   "execution_count": null,
   "metadata": {},
   "outputs": [],
   "source": [
    "def alphabet_position(text):\n",
    "    \n",
    "    positions = []\n",
    "    for l in text.lower():\n",
    "        for i,s in enumerate(alphabet_string):\n",
    "            if l == s:\n",
    "                positions.append(str(i+1))\n",
    "    \n",
    "    return ' '.join(positions)\n",
    "    "
   ]
  },
  {
   "cell_type": "code",
   "execution_count": null,
   "metadata": {},
   "outputs": [],
   "source": [
    "text = \"The sunset sets at twelve o' clock.\"\n",
    "alphabet_position(text)"
   ]
  },
  {
   "cell_type": "markdown",
   "metadata": {},
   "source": [
    "\n",
    "\n",
    "Return the number (count) of vowels in the given string.\n",
    "\n",
    "We will consider a, e, i, o, u as vowels for this Kata (but not y).\n",
    "\n",
    "The input string will only consist of lower case letters and/or spaces.\n",
    "\n",
    "link : https://www.codewars.com/kata/54ff3102c1bad923760001f3/train/python"
   ]
  },
  {
   "cell_type": "code",
   "execution_count": null,
   "metadata": {},
   "outputs": [],
   "source": [
    "def get_count(input_str):\n",
    "\n",
    "    vowes = 'aeiou'\n",
    "    \n",
    "    return len([l for l in input_str.lower() if l in vowes])"
   ]
  },
  {
   "cell_type": "code",
   "execution_count": null,
   "metadata": {},
   "outputs": [],
   "source": [
    "def find_short(s):\n",
    "    # your code here\n",
    "    lst_words = s.split(' ')\n",
    "    l = len(lst_words[0])\n",
    "    for word in lst_words:\n",
    "        if len(word)<l:\n",
    "            l = len(word)\n",
    "        \n",
    "    return l # l: shortest word length"
   ]
  },
  {
   "cell_type": "markdown",
   "metadata": {},
   "source": [
    "Bob is preparing to pass IQ test. The most frequent task in this test is to find out which one of the given numbers differs from the others. Bob observed that one number usually differs from the others in evenness. Help Bob — to check his answers, he needs a program that among the given numbers finds one that is different in evenness, and return a position of this number.\n",
    "\n",
    "iq_test(\"2 4 7 8 10\") => 3 # Third number is odd, while the rest of the numbers are even\n",
    "\n",
    "iq_test(\"1 2 1 1\") => 2 # Second number is even, while the rest of the numbers are odd\n",
    "\n",
    "link :  https://www.codewars.com/kata/552c028c030765286c00007d/train/python"
   ]
  },
  {
   "cell_type": "code",
   "execution_count": null,
   "metadata": {},
   "outputs": [],
   "source": [
    "def iq_test(numbers):\n",
    "    \n",
    "    numbers_list = [int(n) for n in numbers.split()]\n",
    "    modes = [n%2 for n in numbers_list]\n",
    "    zeros = modes.count(0)\n",
    "    ones = modes.count(1)\n",
    "    if zeros > ones:\n",
    "        return modes.index(1)+1\n",
    "    else:\n",
    "        return modes.index(0)+1"
   ]
  },
  {
   "cell_type": "code",
   "execution_count": null,
   "metadata": {},
   "outputs": [],
   "source": [
    "print(iq_test(\"2 4 7 8 10\"))\n",
    "print(iq_test(\"1 2 1 1\"))"
   ]
  },
  {
   "cell_type": "markdown",
   "metadata": {},
   "source": [
    "The new \"Avengers\" movie has just been released! There are a lot of people at the cinema box office standing in a huge line. Each of them has a single 100, 50 or 25 dollar bill. An \"Avengers\" ticket costs 25 dollars.\n",
    "\n",
    "Vasya is currently working as a clerk. He wants to sell a ticket to every single person in this line.\n",
    "\n",
    "Can Vasya sell a ticket to every person and give change if he initially has no money and sells the tickets strictly in the order people queue?\n",
    "\n",
    "Return YES, if Vasya can sell a ticket to every person and give change with the bills he has at hand at that moment. Otherwise return NO.\n",
    "\n",
    "\n",
    "tickets([25, 25, 50]) # => YES \n",
    "\n",
    "tickets([25, 100]) # => NO. Vasya will not have enough money to give change to 100 dollars\n",
    "\n",
    "tickets([25, 25, 50, 50, 100]) # => NO. Vasya will not have the right bills to give 75 dollars of change (you can't make two bills of 25 from one of 50)\n",
    "\n",
    "link : https://www.codewars.com/kata/555615a77ebc7c2c8a0000b8/train/python"
   ]
  },
  {
   "cell_type": "code",
   "execution_count": null,
   "metadata": {},
   "outputs": [],
   "source": [
    "bills = [25,25,50]"
   ]
  },
  {
   "cell_type": "code",
   "execution_count": null,
   "metadata": {},
   "outputs": [],
   "source": [
    "def tickets(bills):\n",
    "    \n",
    "    count_25 =count_50 = count_100 = 0\n",
    "    \n",
    "    for bill in bills:\n",
    "\n",
    "        if bill == 25: count_25+=1\n",
    "        if bill == 50:\n",
    "            if count_25<1:\n",
    "                return 'NO'\n",
    "            else:\n",
    "                count_50+=1\n",
    "                count_25-=1\n",
    "        if bill == 100:\n",
    "            if count_25 == 0: return 'NO'\n",
    "            \n",
    "            if count_25<3 and count_50<1: return 'NO'\n",
    "            \n",
    "            if count_25>=3 and count_50<1:\n",
    "                count_100+=1\n",
    "                count_25-=3\n",
    "                \n",
    "            if count_25>0 and count_50>0:\n",
    "                count_100+=1\n",
    "                count_50-=1\n",
    "                count_25-=1\n",
    "                \n",
    "    return 'YES'"
   ]
  },
  {
   "cell_type": "code",
   "execution_count": null,
   "metadata": {},
   "outputs": [],
   "source": [
    "tickets([25, 25, 50, 50, 100])"
   ]
  },
  {
   "cell_type": "markdown",
   "metadata": {},
   "source": [
    "Move the first letter of each word to the end of it, then add \"ay\" to the end of the word. Leave punctuation marks untouched.\n",
    "\n",
    "pig_it('Pig latin is cool') # igPay atinlay siay oolcay\n",
    "\n",
    "pig_it('Hello world !')     # elloHay orldway !\n",
    "\n",
    "link : https://www.codewars.com/kata/520b9d2ad5c005041100000f/train/python"
   ]
  },
  {
   "cell_type": "code",
   "execution_count": null,
   "metadata": {},
   "outputs": [],
   "source": [
    "def pig_it(text):\n",
    "    \n",
    "    words = text.split()\n",
    "    new_text=[]\n",
    "    for word in words:\n",
    "        if word.isalpha():\n",
    "            new_word = word[1:]+word[0]+'ay'\n",
    "            new_text.append(new_word)\n",
    "        else: new_text.append(word)\n",
    "    return ' '.join(new_text)"
   ]
  },
  {
   "cell_type": "code",
   "execution_count": null,
   "metadata": {},
   "outputs": [],
   "source": [
    "pig_it('Hello world !')"
   ]
  },
  {
   "cell_type": "markdown",
   "metadata": {},
   "source": [
    "#Find the missing letter\n",
    "\n",
    "Write a method that takes an array of consecutive (increasing) letters as input and that returns the missing letter in the array.\n",
    "\n",
    "You will always get an valid array. And it will be always exactly one letter be missing. The length of the array will always be at least 2.\n",
    "The array will always contain letters in only one case.\n",
    "\n",
    "Example:\n",
    "\n",
    "['a','b','c','d','f'] -> 'e' ['O','Q','R','S'] -> 'P'\n",
    "\n",
    "link : https://www.codewars.com/kata/5839edaa6754d6fec10000a2/train/python"
   ]
  },
  {
   "cell_type": "code",
   "execution_count": null,
   "metadata": {},
   "outputs": [],
   "source": [
    "def find_missing_letter(chars):\n",
    "    import string\n",
    "    \n",
    "    alphabet_string_lower = list(string.ascii_lowercase)\n",
    "    alphabet_string_upper = list(string.ascii_uppercase)\n",
    "    \n",
    "    if chars[0] in alphabet_string_lower:\n",
    "\n",
    "        positions = [i+1 for i,l in enumerate(alphabet_string_lower) if l in chars] # [int(alphabet_position(c)) for c in chars]\n",
    "        for i in range(len(positions)-1):\n",
    "            if positions[i] != (positions[i+1]-1):\n",
    "                return alphabet_string_lower[positions[i]]\n",
    "            \n",
    "    else:\n",
    "        positions = [i+1 for i,l in enumerate(alphabet_string_upper)  if l in chars] # [int(alphabet_position(c)) for c in chars]\n",
    "        for i in range(len(positions)-1):\n",
    "            if positions[i] != (positions[i+1]-1):\n",
    "                return alphabet_string_upper[positions[i]]"
   ]
  },
  {
   "cell_type": "markdown",
   "metadata": {},
   "source": [
    "Write a function named first_non_repeating_letter that takes a string input, and returns the first character that is not repeated anywhere in the string.\n",
    "\n",
    "For example, if given the input 'stress', the function should return 't', since the letter t only occurs once in the string, and occurs first in the string.\n",
    "\n",
    "As an added challenge, upper- and lowercase letters are considered the same character, but the function should return the correct case for the initial letter. \n",
    "\n",
    "For example, the input 'sTreSS' should return 'T'.\n",
    "\n",
    "If a string contains all repeating characters, it should return an empty string (\"\") or None -- see sample tests.\n",
    "\n",
    "link : https://www.codewars.com/kata/52bc74d4ac05d0945d00054e/python"
   ]
  },
  {
   "cell_type": "code",
   "execution_count": null,
   "metadata": {},
   "outputs": [],
   "source": [
    "def first_non_repeating_letter(string):\n",
    "    #print(string)\n",
    "    d = {}\n",
    "    singles = []\n",
    "    for l in string.lower():\n",
    "        if l in d : d[l]+=1\n",
    "        else: d[l]=1\n",
    "            \n",
    "    for l in string:\n",
    "        for k,v in d.items():\n",
    "            if l.lower() == k and v == 1:\n",
    "                singles.append(l)\n",
    "    if len(singles) == 0: return \"\"\n",
    "    else : return singles[0]"
   ]
  },
  {
   "cell_type": "code",
   "execution_count": null,
   "metadata": {},
   "outputs": [],
   "source": [
    "first_non_repeating_letter('TJ1ra7a3g1OkNcat')"
   ]
  },
  {
   "cell_type": "markdown",
   "metadata": {},
   "source": [
    "You are given an array (which will have a length of at least 3, but could be very large) containing integers.\n",
    "The array is either entirely comprised of odd integers or entirely comprised of even integers except for a single integer N.\n",
    "Write a method that takes the array as an argument and returns this \"outlier\" N.\n",
    "\n",
    "link: https://www.codewars.com/kata/5526fc09a1bbd946250002dc/python\n",
    "\n",
    "[2, 4, 0, 100, 4, 11, 2602, 36]\n",
    "Should return: 11 (the only odd number)\n",
    "\n",
    "[160, 3, 1719, 19, 11, 13, -21]\n",
    "Should return: 160 (the only even number)"
   ]
  },
  {
   "cell_type": "code",
   "execution_count": null,
   "metadata": {},
   "outputs": [],
   "source": [
    "def find_outlier(integers):\n",
    "    \n",
    "    modes = [n%2 for n in integers]\n",
    "    ones =modes.count(1)\n",
    "    zeros =modes.count(0)\n",
    "    \n",
    "    if zeros > ones:\n",
    "        return integers[modes.index(1)]\n",
    "    else:\n",
    "        return integers[modes.index(0)]"
   ]
  },
  {
   "cell_type": "markdown",
   "metadata": {},
   "source": [
    "Write a function that takes a string of parentheses, and determines if the order of the parentheses is valid. \n",
    "The function should return true if the string is valid, and false if it's invalid.\n",
    "\n",
    "\n",
    "\"()\"              =>  true\n",
    "\n",
    "\")(()))\"          =>  false\n",
    "\n",
    "\"(\"               =>  false\n",
    "\n",
    "\"(())((()())())\"  =>  true\n",
    "\n",
    "Along with opening (() and closing ()) parenthesis, input may contain any valid ASCII characters.\n",
    "Furthermore, the input string may be empty and/or not contain any parentheses at all.\n",
    "Do not treat other forms of brackets as parentheses (e.g. [], {}, <>).\n",
    "\n",
    "link: https://www.codewars.com/kata/52774a314c2333f0a7000688/train/python"
   ]
  },
  {
   "cell_type": "code",
   "execution_count": null,
   "metadata": {},
   "outputs": [],
   "source": [
    "def valid_parentheses(string):\n",
    "    \n",
    "    count_open = count_close = i = 0\n",
    "    while i <= len(string)-1:\n",
    "\n",
    "        if string[i] == ')' and count_open == 0:\n",
    "            return False\n",
    "        \n",
    "        if string[i] == ')' and count_open == count_close:\n",
    "            return False\n",
    "\n",
    "        if string[i] == '(':\n",
    "            count_open+=1\n",
    "\n",
    "        if string[i] == ')':\n",
    "            count_close+=1\n",
    "\n",
    "        i+=1\n",
    "\n",
    "    if count_open==count_close:\n",
    "        return True\n",
    "\n",
    "    else:\n",
    "        return False"
   ]
  },
  {
   "cell_type": "code",
   "execution_count": null,
   "metadata": {},
   "outputs": [],
   "source": [
    "valid_parentheses('hi())(')"
   ]
  },
  {
   "cell_type": "markdown",
   "metadata": {},
   "source": [
    "Pete likes to bake some cakes. He has some recipes and ingredients.\n",
    "Unfortunately he is not good in maths. Can you help him to find out, how many cakes he could bake considering his recipes?\n",
    "\n",
    "Write a function cakes(), which takes the recipe (object) and the available ingredients (also an object)\n",
    "and returns the maximum number of cakes Pete can bake (integer).\n",
    "For simplicity there are no units for the amounts (e.g. 1 lb of flour or 200 g of sugar are simply 1 or 200).\n",
    "Ingredients that are not present in the objects, can be considered as 0.\n",
    "\n",
    "Examples:\n",
    "    \n",
    "# must return 2\n",
    "cakes({flour: 500, sugar: 200, eggs: 1}, {flour: 1200, sugar: 1200, eggs: 5, milk: 200})\n",
    "# must return 0\n",
    "cakes({apples: 3, flour: 300, sugar: 150, milk: 100, oil: 100}, {sugar: 500, flour: 2000, milk: 2000})\n"
   ]
  },
  {
   "cell_type": "code",
   "execution_count": null,
   "metadata": {},
   "outputs": [],
   "source": [
    "def cakes(recipe, ingridients):\n",
    "\n",
    "    cakes_count=0\n",
    "    \n",
    "    if sum(ingridients.values())==sum(recipe.values()):\n",
    "        return 1\n",
    "\n",
    "    for product in recipe:\n",
    "        if product not in ingridients:\n",
    "            return cakes_count\n",
    "        \n",
    "    while sum(ingridients.values())>sum(recipe.values()):\n",
    "\n",
    "        for product, number in recipe.items():\n",
    "            for ingridient, count in ingridients.items():    \n",
    "                if product==ingridient:\n",
    "                    if count>=number:\n",
    "                        ingridients[ingridient] = count - number\n",
    "                    else: \n",
    "                        return cakes_count\n",
    "\n",
    "        cakes_count+=1\n",
    "\n",
    "    return cakes_count"
   ]
  },
  {
   "cell_type": "code",
   "execution_count": null,
   "metadata": {},
   "outputs": [],
   "source": [
    "cakes({'cream': 1, 'flour': 3, 'sugar': 1, 'milk': 1, 'oil': 1, 'eggs': 1} , {'sugar': 1, 'eggs': 1, 'flour': 3, 'cream': 1, 'oil': 1, 'milk': 1})"
   ]
  },
  {
   "cell_type": "markdown",
   "metadata": {},
   "source": [
    "Sheldon, Leonard, Penny, Rajesh and Howard are in the queue for a \"Double Cola\" drink vending machine; there are no other people in the queue.\n",
    "The first one in the queue (Sheldon) buys a can, drinks it and doubles!\n",
    "The resulting two Sheldons go to the end of the queue. \n",
    "Then the next in the queue (Leonard) buys a can, drinks it and gets to the end of the queue as two Leonards, and so on.\n",
    "\n",
    "For example, Penny drinks the third can of cola and the queue will look like this:\n",
    "\n",
    "Rajesh, Howard, Sheldon, Sheldon, Leonard, Leonard, Penny, Penny\n",
    "Write a program that will return the name of the person who will drink the n-th cola.\n",
    "\n",
    "Input:\n",
    "The input data consist of an array which contains at least 1 name, and single integer n which may go as high as the biggest number your language of choice supports (if there's such limit, of course).\n",
    "\n",
    "Output / Examples:\n",
    "Return the single line — the name of the person who drinks the n-th can of cola. The cans are numbered starting from 1.\n",
    "\n",
    "who_is_next([\"Sheldon\", \"Leonard\", \"Penny\", \"Rajesh\", \"Howard\"], 1) == \"Sheldon\"\n",
    "\n",
    "who_is_next([\"Sheldon\", \"Leonard\", \"Penny\", \"Rajesh\", \"Howard\"], 52) == \"Penny\"\n",
    "\n",
    "who_is_next([\"Sheldon\", \"Leonard\", \"Penny\", \"Rajesh\", \"Howard\"], 7230702951) == \"Leonard\""
   ]
  },
  {
   "cell_type": "code",
   "execution_count": null,
   "metadata": {},
   "outputs": [],
   "source": [
    "def who_is_next(names, r):\n",
    "    \n",
    "    if len(names)>r:\n",
    "        return names[r-1]\n",
    "    else:\n",
    "        return names[r%len(names)]"
   ]
  },
  {
   "cell_type": "code",
   "execution_count": null,
   "metadata": {},
   "outputs": [],
   "source": [
    "who_is_next([\"Sheldon\", \"Leonard\", \"Penny\", \"Rajesh\", \"Howard\"], 1)"
   ]
  },
  {
   "cell_type": "code",
   "execution_count": null,
   "metadata": {},
   "outputs": [],
   "source": [
    "who_is_next([\"Sheldon\", \"Leonard\", \"Penny\", \"Rajesh\", \"Howard\"], 52)"
   ]
  },
  {
   "cell_type": "markdown",
   "metadata": {},
   "source": [
    "Complete the function scramble(str1, str2) that returns true if a portion of str1 characters can be rearranged to match str2, otherwise returns false.\n",
    "\n",
    "Notes:\n",
    "\n",
    "Only lower case letters will be used (a-z). No punctuation or digits will be included.\n",
    "\n",
    "Performance needs to be considered\n",
    "\n",
    "Input strings s1 and s2 are null terminated.\n",
    "\n",
    "Examples\n",
    "\n",
    "scramble('rkqodlw', 'world') ==> True\n",
    "\n",
    "scramble('cedewaraaossoqqyt', 'codewars') ==> True\n",
    "\n",
    "scramble('katas', 'steak') ==> False\n",
    "\n",
    "link : https://www.codewars.com/kata/55c04b4cc56a697bb0000048/train/python"
   ]
  },
  {
   "cell_type": "code",
   "execution_count": null,
   "metadata": {},
   "outputs": [],
   "source": [
    "def scramble(s1,s2):\n",
    "    d={}\n",
    "    for l in s1:\n",
    "        d[l] = d.get(l, 0) +1\n",
    "        \n",
    "    for l in s2:\n",
    "        if l not in d or d[l] < 1:\n",
    "            return False\n",
    "        else:\n",
    "            d[l] -= 1\n",
    "    return True"
   ]
  },
  {
   "cell_type": "code",
   "execution_count": null,
   "metadata": {},
   "outputs": [],
   "source": [
    "scramble('rkqodlwa', 'world') "
   ]
  },
  {
   "cell_type": "markdown",
   "metadata": {},
   "source": [
    "In this kata we want to convert a string into an integer. The strings simply represent the numbers in words.\n",
    "\n",
    "Examples:\n",
    "\n",
    "\"one\" => 1\n",
    "\"twenty\" => 20\n",
    "\"two hundred forty-six\" => 246\n",
    "\"seven hundred eighty-three thousand nine hundred and nineteen\" => 783919\n",
    "Additional Notes:\n",
    "\n",
    "The minimum number is \"zero\" (inclusively)\n",
    "The maximum number, which must be supported is 1 million (inclusively)\n",
    "The \"and\" in e.g. \"one hundred and twenty-four\" is optional, in some cases it's present and in others it's not\n",
    "All tested numbers are valid, you don't need to validate them"
   ]
  },
  {
   "cell_type": "code",
   "execution_count": null,
   "metadata": {},
   "outputs": [],
   "source": [
    "def addTwoNumbers(l_1,l_2):\n",
    "    \n",
    "    l_1.reverse()\n",
    "    l_2.reverse()\n",
    "    \n",
    "    result = int(''.join([str(n) for n in l_1])) + int(''.join([str(n) for n in l_2]))\n",
    "    outcome = [int(n) for n in str(result)]\n",
    "    outcome.reverse()\n",
    "    \n",
    "    return int(''.join([str(n) for n in outcome]))"
   ]
  },
  {
   "cell_type": "markdown",
   "metadata": {},
   "source": [
    "# Tech Interview at SKILLED"
   ]
  },
  {
   "cell_type": "markdown",
   "metadata": {},
   "source": [
    "You are taking a flight over the sea and time to get to your destination takes t minutes.\n",
    "Airline offers to you a list of movies where each movie has the number of minutes.\n",
    "Create a function that returns True if any of 2 different  movies from the list match the exact time of your flight.\n",
    "Function has to  return False if there is no match of 2 movies in the list that could match your flight time.\n",
    "\n",
    "def check_movies(t, movies):\n",
    "\t“\n",
    "\tt - travel time in minutes\n",
    "movies -list of integers   \n",
    "”\n",
    "\tReturn\n",
    "\n",
    "Result :\n",
    "\n",
    "\tcheck_movies(120, [20,40,60,60]) - True\n",
    "check_movies(160, [80, 110, 40]) - False\n",
    "check_movies(160, [90, 110, 40]) - False\n",
    "check_movies(160, [80, 80, 80]) - True\n",
    "check_movies(160, [80, 110, 40]) - False\n",
    "\n",
    "NOTE:\n",
    "\tYou can not use a nested loop in your function. \n"
   ]
  },
  {
   "cell_type": "code",
   "execution_count": null,
   "metadata": {},
   "outputs": [],
   "source": [
    "def check_movies(flight, movies):\n",
    "    \n",
    "    d = {}\n",
    "    for movie in movies:\n",
    "        d[movie] = d.get(movie, 0) +1\n",
    "    \n",
    "    for movie in movies:\n",
    "        diff = flight - movie\n",
    "       \n",
    "        if diff in d and d[movie] >1:\n",
    "            return True\n",
    "    \n",
    "    return False"
   ]
  },
  {
   "cell_type": "code",
   "execution_count": null,
   "metadata": {},
   "outputs": [],
   "source": [
    "print(check_movies(120, [20,40,60,60]))\n",
    "print(check_movies(160, [80, 110, 40]))\n",
    "print(check_movies(160, [90, 110, 40]))\n",
    "print(check_movies(160, [80, 80, 80]))\n",
    "print(check_movies(160, [80, 110, 40]))"
   ]
  },
  {
   "cell_type": "markdown",
   "metadata": {},
   "source": [
    "Given an array of integers nums and an integer target, return indices of the two numbers such that they add up to target.\n",
    "\n",
    "You may assume that each input would have exactly one solution, and you may not use the same element twice.\n",
    "\n",
    "You can return the answer in any order.\n",
    "\n",
    "Input: nums = [2,7,11,15], target = 9\n",
    "\n",
    "Output: [0,1]\n",
    "\n",
    "Output: Because nums[0] + nums[1] == 9, we return [0, 1]."
   ]
  },
  {
   "cell_type": "code",
   "execution_count": null,
   "metadata": {},
   "outputs": [],
   "source": [
    "def twoSum(numbers, target):\n",
    "    \n",
    "    d = {}\n",
    "    \n",
    "    for i,number in enumerate(numbers):\n",
    "        diff = target - number\n",
    "        if diff not in d:\n",
    "            d[number] = i\n",
    "        else:\n",
    "            return [d[diff], i]"
   ]
  },
  {
   "cell_type": "code",
   "execution_count": null,
   "metadata": {},
   "outputs": [],
   "source": [
    "print(twoSum(numbers=[2,7,11,15], target=9))\n",
    "print(twoSum(numbers=[3,2,4], target=6))"
   ]
  },
  {
   "cell_type": "code",
   "execution_count": null,
   "metadata": {},
   "outputs": [],
   "source": [
    "def sum_of_intervals(intervals):\n",
    "    \n",
    "    interval = set()\n",
    "    \n",
    "    for data in intervals:\n",
    "        if len(data) == 2 and data[0] < data[1]:\n",
    "            for i in range(data[0],data[1]):\n",
    "                interval.add(i)\n",
    "    print(interval)\n",
    "    return len(interval)"
   ]
  },
  {
   "cell_type": "code",
   "execution_count": null,
   "metadata": {},
   "outputs": [],
   "source": [
    "print(sum_of_intervals( [\n",
    "   [1,2],\n",
    "   [6, 10],\n",
    "   [11, 15]\n",
    "] )) # // => 9\n",
    "\n",
    "print(sum_of_intervals( [\n",
    "   [1,4],\n",
    "   [7, 10],\n",
    "   [3, 5]\n",
    "] )) # // => 7\n",
    "\n",
    "print(sum_of_intervals( [\n",
    "   [1,5],\n",
    "   [10, 20],\n",
    "   [1, 6],\n",
    "   [16, 19],\n",
    "   [5, 11]\n",
    "] )) # // => 19"
   ]
  },
  {
   "cell_type": "markdown",
   "metadata": {},
   "source": [
    "Greed is a dice game played with five six-sided dice.\n",
    "Your mission, should you choose to accept it, is to score a throw according to these rules.\n",
    "You will always be given an array with five six-sided dice values.\n",
    "\n",
    " Three 1's => 1000 points\n",
    " \n",
    " Three 6's =>  600 points\n",
    " \n",
    " Three 5's =>  500 points\n",
    " \n",
    " Three 4's =>  400 points\n",
    " \n",
    " Three 3's =>  300 points\n",
    " \n",
    " Three 2's =>  200 points\n",
    " \n",
    " One   1   =>  100 points\n",
    " \n",
    " One   5   =>   50 point\n",
    "\n",
    "A single die can only be counted once in each roll. For example, a given \"5\" can only count as part of a triplet (contributing to the 500 points) or as a single 50 points, but not both in the same roll.\n",
    "\n",
    "Example scoring\n",
    "\n",
    " Throw       Score\n",
    " ---------   ------------------\n",
    " 5 1 3 4 1   250:  50 (for the 5) + 2 * 100 (for the 1s)\n",
    " 1 1 1 3 1   1100: 1000 (for three 1s) + 100 (for the other 1)\n",
    " 2 4 4 5 4   450:  400 (for three 4s) + 50 (for the 5)\n",
    "    \n",
    "    "
   ]
  },
  {
   "cell_type": "code",
   "execution_count": null,
   "metadata": {},
   "outputs": [],
   "source": [
    "def score(dice):\n",
    "    d = {}\n",
    "    for n in dice:\n",
    "        d[n] = d.get(n, 0) +1    \n",
    "    d_={}\n",
    "\n",
    "    summ =0\n",
    "    \n",
    "    for k,v in d.items():\n",
    "     \n",
    "        if k==2 and v>=3: summ+=200\n",
    "        if k==3 and v>=3: summ+=300\n",
    "        if k==4 and v>=3: summ+=400\n",
    "        if k==6 and v>=3: summ+=600\n",
    "            \n",
    "        if k==1 and v>=3: summ+=1000; d_[k]=v-3 \n",
    "        if k==1 and v<3: summ+=v*100    \n",
    "        if k==5 and v>=3: summ+=500; d_[k]=v-3\n",
    "        if k==5 and v<3: summ+=v*50\n",
    "            \n",
    "    for k,v in d_.items():\n",
    "        if k==1: summ+=v*100\n",
    "        if k==5: summ+=v*50\n",
    "\n",
    "    return summ"
   ]
  },
  {
   "cell_type": "code",
   "execution_count": null,
   "metadata": {},
   "outputs": [],
   "source": [
    "score([5,1,3,4,1])\n",
    "score([1,1,1,3,1])"
   ]
  },
  {
   "cell_type": "code",
   "execution_count": null,
   "metadata": {},
   "outputs": [],
   "source": [
    "def increment_string(strng):\n",
    "    \n",
    "    number = []\n",
    "    letters =[]\n",
    "    \n",
    "    if len(strng) == 0:\n",
    "        return strng+'1'\n",
    "    \n",
    "    if strng.isalpha():\n",
    "        return strng+'1'\n",
    "    \n",
    "    else :   \n",
    "        for i in range(len(strng)):\n",
    "            \n",
    "            if strng[i]=='0' and len(number)>0:\n",
    "                number.append(int(strng[i]))\n",
    "\n",
    "            if strng[i] in '1,2,3,4,5,6,7,8,9':\n",
    "                number.append(int(strng[i]))\n",
    "                \n",
    "            else:\n",
    "                 letters.append(strng[i])\n",
    "    \n",
    "    print(letters)        \n",
    "    print(number)\n",
    "    \n",
    "    if len(number) == 0:\n",
    "        return ''.join(letters)+'1'\n",
    "    \n",
    "    else:                 \n",
    "        digit = int(''.join([str(n) for n in number]))+1\n",
    "        \n",
    "        if '0' in letter and  ==1:\n",
    "            return ''.join(letters).replace('0',str(digit))\n",
    "        else:\n",
    "            return ''.join(letters)+str(digit)"
   ]
  },
  {
   "cell_type": "code",
   "execution_count": null,
   "metadata": {},
   "outputs": [],
   "source": [
    "increment_string('09')"
   ]
  },
  {
   "cell_type": "code",
   "execution_count": null,
   "metadata": {},
   "outputs": [],
   "source": [
    "# increment_string(\"foo\")\n",
    "#increment_string(\"foobar001\")\n",
    "# increment_string(\"foobar1\")\n",
    "#increment_string(\"foobar00\")\n",
    "# increment_string(\"foobar99\")\n",
    "increment_string(\"foobar099\")\n",
    "# increment_string(\"\")"
   ]
  },
  {
   "cell_type": "code",
   "execution_count": null,
   "metadata": {},
   "outputs": [],
   "source": [
    "l = ''.join(['f', 'o', 'o', 'b', 'a', 'r', '0'])"
   ]
  },
  {
   "cell_type": "code",
   "execution_count": null,
   "metadata": {},
   "outputs": [],
   "source": [
    "n = '99'"
   ]
  },
  {
   "cell_type": "code",
   "execution_count": null,
   "metadata": {},
   "outputs": [],
   "source": [
    "if l[-1] == '0':\n",
    "    print(l.replace('0', '100'))"
   ]
  },
  {
   "cell_type": "markdown",
   "metadata": {},
   "source": [
    "Sum of Pairs\n",
    "\n",
    "Given a list of integers and a single sum value, return the first two values (parse from the left please) \n",
    "in order of appearance that add up to form the sum.\n",
    "\n",
    "sum_pairs([11, 3, 7, 5],         10)\n",
    "\n",
    "#              ^--^      3 + 7 = 10\n",
    "== [3, 7]\n",
    "\n",
    "sum_pairs([4, 3, 2, 3, 4],         6)\n",
    "#          ^-----^         4 + 2 = 6, indices: 0, 2 *\n",
    "#             ^-----^      3 + 3 = 6, indices: 1, 3\n",
    "#                ^-----^   2 + 4 = 6, indices: 2, 4\n",
    "#  * entire pair is earlier, and therefore is the correct answer\n",
    "== [4, 2]\n",
    "\n",
    "sum_pairs([0, 0, -2, 3], 2)\n",
    "#  there are no pairs of values that can be added to produce 2.\n",
    "== None/nil/undefined (Based on the language)\n",
    "\n",
    "sum_pairs([10, 5, 2, 3, 7, 5],         10)\n",
    "#              ^-----------^   5 + 5 = 10, indices: 1, 5\n",
    "#                    ^--^      3 + 7 = 10, indices: 3, 4 *\n",
    "#  * entire pair is earlier, and therefore is the correct answer\n",
    "== [3, 7]"
   ]
  },
  {
   "cell_type": "code",
   "execution_count": null,
   "metadata": {},
   "outputs": [],
   "source": [
    "def sum_pairs(ints, s):\n",
    "    \n",
    "    seen = set()\n",
    "    \n",
    "    for n in ints:\n",
    "        diff = s -n\n",
    "        if diff in seen:\n",
    "            return[diff, n]\n",
    "        seen.add(n)"
   ]
  },
  {
   "cell_type": "code",
   "execution_count": null,
   "metadata": {},
   "outputs": [],
   "source": [
    "print(sum_pairs([11, 3, 7, 5],         10))\n",
    "print(sum_pairs([4, 3, 2, 3, 4],         6))\n",
    "print(sum_pairs([0, 0, -2, 3], 2))\n",
    "print(sum_pairs([10, 5, 2, 3, 7, 5],         10))"
   ]
  },
  {
   "cell_type": "markdown",
   "metadata": {},
   "source": [
    "https://www.codewars.com/kata/55b7bb74a0256d4467000070/python"
   ]
  },
  {
   "cell_type": "code",
   "execution_count": 206,
   "metadata": {},
   "outputs": [],
   "source": [
    "def proper_fractions(n):\n",
    "    \n",
    "    if n==1:\n",
    "        return 0\n",
    "    \n",
    "    lst = [1]\n",
    "    to_remove = []\n",
    "    for d in range(1,n):\n",
    "        if d/n > 0 and d/n < 1:\n",
    "            if n%d != 0:\n",
    "                lst.append(d)\n",
    "    \n",
    "    for number in lst:\n",
    "        for i in range(2,number+1):\n",
    "            if number%i == 0 and n%i == 0:\n",
    "                to_remove.append(number)\n",
    "                \n",
    "    return len([n for n in lst if n not in to_remove])\n"
   ]
  },
  {
   "cell_type": "markdown",
   "metadata": {},
   "source": [
    "https://www.codewars.com/kata/5629db57620258aa9d000014/train/python"
   ]
  },
  {
   "cell_type": "code",
   "execution_count": 654,
   "metadata": {},
   "outputs": [],
   "source": [
    "def mix(s1, s2):\n",
    "    \n",
    "    d1= {}\n",
    "    d2= {}\n",
    "    d3= {}\n",
    "    \n",
    "    for char in s1:\n",
    "        if char.isalpha() and char.islower():\n",
    "            d1['1:'+char] = d1.get('1:'+char, 0)+1\n",
    "            \n",
    "    for char in s2:\n",
    "        if char.isalpha() and char.islower():\n",
    "            d2['2:'+char] = d2.get('2:'+char, 0)+1\n",
    "            \n",
    "    d1 = {k:v for k,v in d1.items() if v >1}\n",
    "    d2 = {k:v for k,v in d2.items() if v >1}\n",
    "    \n",
    "    keys1 = [k[-1] for k in d1]\n",
    "    keys2 = [k[-1] for k in d2]\n",
    "    \n",
    "    if len(d2)==0:\n",
    "        d3=d1\n",
    "        \n",
    "    if len(d1)==0:\n",
    "        d3=d2\n",
    "    \n",
    "    if len(d1) !=0 and len(d2) != 0:\n",
    "        for k1,v1 in d1.items():\n",
    "\n",
    "            for k2,v2 in d2.items():\n",
    "\n",
    "                if k2[-1] not in keys1:\n",
    "                    d3[k2] = v2\n",
    "\n",
    "                if k1[-1] not in keys2:\n",
    "                    d3[k1] = v1\n",
    "\n",
    "                if k1[-1]==k2[-1] and v1==v2:\n",
    "                    d3[k1[-1]+'=:'] = v1\n",
    "\n",
    "                if k1[-1]==k2[-1] and v1>v2:\n",
    "                    d3[k1] = v1\n",
    "\n",
    "                if k1[-1]==k2[-1] and v1<v2:\n",
    "                    d3[k2] = v2       \n",
    "    l= []\n",
    "\n",
    "    for e in sorted(d3.items(), key = lambda k: (-k[1], k[0])):\n",
    "            l.append(e)\n",
    "    s = []\n",
    "    \n",
    "    for e in l:\n",
    "        if '=' not in e[0]:\n",
    "            s.append(e[0][:2]+e[1]*e[0][-1])\n",
    "        else:\n",
    "            s.append(e[0][1]+':'+e[0][0]*e[1])\n",
    "                                                  \n",
    "    return  '/'.join(s)"
   ]
  },
  {
   "cell_type": "code",
   "execution_count": 655,
   "metadata": {},
   "outputs": [],
   "source": [
    "s1 = \"Lords of the Fallen\"\n",
    "s2 = \"gamekult\""
   ]
  },
  {
   "cell_type": "code",
   "execution_count": 656,
   "metadata": {},
   "outputs": [
    {
     "data": {
      "text/plain": [
       "'1:ee/1:ll/1:oo'"
      ]
     },
     "execution_count": 656,
     "metadata": {},
     "output_type": "execute_result"
    }
   ],
   "source": [
    "mix(s1,s2)"
   ]
  },
  {
   "cell_type": "markdown",
   "metadata": {},
   "source": [
    "## Other Solutions:"
   ]
  },
  {
   "cell_type": "code",
   "execution_count": 647,
   "metadata": {},
   "outputs": [],
   "source": [
    "def mix(s1, s2):\n",
    "    hist = {}\n",
    "    for ch in \"abcdefghijklmnopqrstuvwxyz\":\n",
    "        val1, val2 = s1.count(ch), s2.count(ch)\n",
    "        if max(val1, val2) > 1:\n",
    "            which = \"1\" if val1 > val2 else \"2\" if val2 > val1 else \"=\"\n",
    "            hist[ch] = (-max(val1, val2), which + \":\" + ch * max(val1, val2))\n",
    "    return \"/\".join(hist[ch][1] for ch in sorted(hist, key=lambda x: hist[x]))"
   ]
  },
  {
   "cell_type": "code",
   "execution_count": 648,
   "metadata": {},
   "outputs": [],
   "source": [
    "from collections import Counter\n",
    "\n",
    "def mix(s1, s2):\n",
    "    c1 = Counter(filter(str.islower, s1))\n",
    "    c2 = Counter(filter(str.islower, s2))\n",
    "    res = []\n",
    "    for c in set(c1.keys() + c2.keys()):\n",
    "        n1, n2 = c1.get(c, 0), c2.get(c, 0)\n",
    "        if n1 > 1 or n2 > 1:\n",
    "            res.append(('1', c, n1) if n1 > n2 else\n",
    "                ('2', c, n2) if n2 > n1 else ('=', c, n1))\n",
    "    res = ['{}:{}'.format(i, c * n) for i, c, n in res]\n",
    "    return '/'.join(sorted(res, key=lambda s: (-len(s), s)))"
   ]
  },
  {
   "cell_type": "code",
   "execution_count": 649,
   "metadata": {},
   "outputs": [],
   "source": [
    "def mix(s1, s2):\n",
    "    s = []\n",
    "    lett = \"abcdefghijklmnopqrstuvwxyz\"\n",
    "    for ch in lett:\n",
    "        val1, val2 = s1.count(ch), s2.count(ch)\n",
    "        if max(val1, val2) >= 2:\n",
    "            if val1 > val2: s.append(\"1:\"+val1*ch)\n",
    "            elif val1 < val2: s.append(\"2:\"+val2*ch)\n",
    "            else: s.append(\"=:\"+val1*ch)\n",
    "            \n",
    "    s.sort()\n",
    "    s.sort(key=len, reverse=True)\n",
    "    return \"/\".join(s)"
   ]
  },
  {
   "cell_type": "code",
   "execution_count": 650,
   "metadata": {},
   "outputs": [],
   "source": [
    "def mix(s1, s2):\n",
    "    output = []\n",
    "    for char in {c for c in s1 + s2 if c.islower()}:\n",
    "        check = s1.count(char), s2.count(char)\n",
    "        m = max(check)\n",
    "        if m > 1:\n",
    "            output += [\"=12\"[cmp(*check)] + \":\" + m * char]\n",
    "    output.sort(key = lambda x: (-len(x), x))\n",
    "    return '/'.join(output)"
   ]
  },
  {
   "cell_type": "markdown",
   "metadata": {},
   "source": [
    "# Social Golfer Problem Validator"
   ]
  },
  {
   "cell_type": "markdown",
   "metadata": {},
   "source": [
    "https://www.codewars.com/kata/556c04c72ee1147ff20000c9/train/python"
   ]
  },
  {
   "cell_type": "markdown",
   "metadata": {},
   "source": [
    "# Mongodb ObjectID"
   ]
  },
  {
   "cell_type": "markdown",
   "metadata": {},
   "source": [
    "https://www.codewars.com/kata/52fefe6cb0091856db00030e/train/python"
   ]
  },
  {
   "cell_type": "code",
   "execution_count": 85,
   "metadata": {},
   "outputs": [],
   "source": [
    "ones = {\n",
    "    0: '', 1: 'one', 2: 'two', 3: 'three', 4: 'four', 5: 'five', 6: 'six',\n",
    "    7: 'seven', 8: 'eight', 9: 'nine', 10: 'ten', 11: 'eleven', 12: 'twelve',\n",
    "    13: 'thirteen', 14: 'fourteen', 15: 'fifteen', 16: 'sixteen',\n",
    "    17: 'seventeen', 18: 'eighteen', 19: 'nineteen'}\n",
    "tens = {\n",
    "    2: 'twenty', 3: 'thirty', 4: 'forty', 5: 'fifty', 6: 'sixty',\n",
    "    7: 'seventy', 8: 'eighty', 9: 'ninety'}"
   ]
  },
  {
   "cell_type": "code",
   "execution_count": 936,
   "metadata": {},
   "outputs": [],
   "source": [
    "def number_pos(i):\n",
    "    if i < 20:\n",
    "        return ones[i]\n",
    "    if i < 100:\n",
    "        return _join(tens[i // 10], ones[i % 10])\n",
    "    if i < 1000:\n",
    "        return _divide(i, 100, 'hundred')"
   ]
  },
  {
   "cell_type": "code",
   "execution_count": 937,
   "metadata": {},
   "outputs": [
    {
     "data": {
      "text/plain": [
       "'five hundred twenty'"
      ]
     },
     "execution_count": 937,
     "metadata": {},
     "output_type": "execute_result"
    }
   ],
   "source": [
    "number_pos(520)"
   ]
  },
  {
   "cell_type": "code",
   "execution_count": 898,
   "metadata": {},
   "outputs": [],
   "source": [
    "def _divide(dividend, divisor, magnitude):\n",
    "    return _join(\n",
    "        number_pos(dividend // divisor),\n",
    "        magnitude,\n",
    "        number_pos(dividend % divisor),\n",
    "    )"
   ]
  },
  {
   "cell_type": "code",
   "execution_count": 899,
   "metadata": {},
   "outputs": [],
   "source": [
    "def _join(*args):\n",
    "    return ' '.join(filter(bool, args))"
   ]
  },
  {
   "cell_type": "code",
   "execution_count": 900,
   "metadata": {},
   "outputs": [
    {
     "data": {
      "text/plain": [
       "[None, 'eight', 'nine', 'nine', 'ten', 'ten']"
      ]
     },
     "execution_count": 900,
     "metadata": {},
     "output_type": "execute_result"
    }
   ],
   "source": [
    "[number_pos(n) for n in [8016, 8, 9, 9, 10, 10]]"
   ]
  },
  {
   "cell_type": "code",
   "execution_count": 795,
   "metadata": {},
   "outputs": [],
   "source": [
    "l.sort()"
   ]
  },
  {
   "cell_type": "code",
   "execution_count": 730,
   "metadata": {},
   "outputs": [],
   "source": [
    "def return_single_num(s):\n",
    "    for k,v in ones.items():\n",
    "        if s == v:\n",
    "            return k\n",
    "    for k,v in tens.items():\n",
    "        if s == v:\n",
    "            return k    "
   ]
  },
  {
   "cell_type": "code",
   "execution_count": 815,
   "metadata": {},
   "outputs": [],
   "source": [
    "def return_double_num(s):\n",
    "    l_num= []\n",
    "    list_of_two = s.split(' ')\n",
    "    \n",
    "    if 'hundred' not in list_of_two:\n",
    "        for sub in list_of_two:\n",
    "            l_num.append(str(return_single_num(sub)))\n",
    "    else:\n",
    "        l_num.append(str(return_single_num(list_of_two[0]))+'00')\n",
    "    return int(''.join(l_num))"
   ]
  },
  {
   "cell_type": "code",
   "execution_count": 830,
   "metadata": {},
   "outputs": [],
   "source": [
    "def return_triple_number(s):\n",
    "    l_num= []\n",
    "    list_of_three = s.split(' ')\n",
    "    \n",
    "    if len(list_of_three) == 3 and list_of_three[1] == 'hundred':\n",
    "        for sub in list_of_three:\n",
    "            if sub != 'hundred':\n",
    "                l_num.append(str(return_single_num(sub)))\n",
    "    else:\n",
    "\n",
    "        for sub in list_of_three:\n",
    "            if sub != 'hundred':\n",
    "                l_num.append(str(return_single_num(sub)))\n",
    "            else:\n",
    "                l_num.append('0')\n",
    "\n",
    "    if len(l_num)>3:\n",
    "        l_num.remove('0')\n",
    "    return int(''.join(l_num))"
   ]
  },
  {
   "cell_type": "code",
   "execution_count": 831,
   "metadata": {},
   "outputs": [],
   "source": [
    "def pos_number(s):\n",
    "    count = s.count(' ')\n",
    "    \n",
    "    if count == 0:\n",
    "        return return_single_num(s)\n",
    "    \n",
    "    if count == 1:\n",
    "        return return_double_num(s)\n",
    "    \n",
    "    if count == 2:    \n",
    "        return return_triple_number(s)\n",
    "    \n",
    "    if count == 3:    \n",
    "        return return_triple_number(s)\n",
    "        "
   ]
  },
  {
   "cell_type": "code",
   "execution_count": 832,
   "metadata": {},
   "outputs": [
    {
     "data": {
      "text/plain": [
       "811"
      ]
     },
     "execution_count": 832,
     "metadata": {},
     "output_type": "execute_result"
    }
   ],
   "source": [
    "pos_number('eight hundred eleven')"
   ]
  },
  {
   "cell_type": "code",
   "execution_count": 796,
   "metadata": {},
   "outputs": [
    {
     "data": {
      "text/plain": [
       "['four', 'one', 'three', 'two']"
      ]
     },
     "execution_count": 796,
     "metadata": {},
     "output_type": "execute_result"
    }
   ],
   "source": [
    "l"
   ]
  },
  {
   "cell_type": "code",
   "execution_count": 797,
   "metadata": {},
   "outputs": [
    {
     "data": {
      "text/plain": [
       "[4, 1, 3, 2]"
      ]
     },
     "execution_count": 797,
     "metadata": {},
     "output_type": "execute_result"
    }
   ],
   "source": [
    "[pos_number(n) for n in l]"
   ]
  },
  {
   "cell_type": "code",
   "execution_count": 109,
   "metadata": {},
   "outputs": [],
   "source": [
    "def sort_by_name(arr):\n",
    "    \n",
    "    ones = {\n",
    "            0: 'zero', 1: 'one', 2: 'two', 3: 'three', 4: 'four', 5: 'five', 6: 'six',\n",
    "            7: 'seven', 8: 'eight', 9: 'nine', 10: 'ten', 11: 'eleven', 12: 'twelve',\n",
    "            13: 'thirteen', 14: 'fourteen', 15: 'fifteen', 16: 'sixteen',\n",
    "            17: 'seventeen', 18: 'eighteen', 19: 'nineteen'\n",
    "            }\n",
    "    tens = {\n",
    "            2: 'twenty', 3: 'thirty', 4: 'forty', 5: 'fifty', 6: 'sixty',\n",
    "            7: 'seventy', 8: 'eighty', 9: 'ninety'\n",
    "            }\n",
    "        \n",
    "\n",
    "    def number_pos(i):\n",
    "        if i < 20:\n",
    "            return ones[i]\n",
    "        if i < 100:\n",
    "            return _join(tens[i // 10], ones[i % 10])\n",
    "        if i < 1000:\n",
    "            return _divide(i, 100, 'hundred')\n",
    "    \n",
    "    def _divide(dividend, divisor, magnitude):\n",
    "        return _join(\n",
    "            number_pos(dividend // divisor),\n",
    "            magnitude,\n",
    "            number_pos(dividend % divisor),)\n",
    "    \n",
    "    def _join(*args):\n",
    "        return ' '.join(filter(bool, args))\n",
    "\n",
    "    \n",
    "    words_lst = [number_pos(n) for n in arr]\n",
    "    words_lst.sort()\n",
    "    \n",
    "    \n",
    "    def return_single_num(s):\n",
    "      \n",
    "        for k,v in ones.items():\n",
    "            if s == v:\n",
    "                return k\n",
    "        for k,v in tens.items():\n",
    "            if s == v:\n",
    "                return k*10    \n",
    "            \n",
    "    def return_double_num(s):\n",
    "        l_num= []\n",
    "        list_of_two = s.split(' ')\n",
    "        \n",
    "        if 'hundred' not in list_of_two:\n",
    "            for sub in list_of_two:\n",
    "                if sub not in tens.values():\n",
    "                    l_num.append(str(return_single_num(sub)))\n",
    "                else:\n",
    "                    for k,v in tens.items():\n",
    "                        if sub == v:\n",
    "                            l_num.append(str(k))\n",
    "        else:\n",
    "            l_num.append(str(return_single_num(list_of_two[0]))+'00')\n",
    "        \n",
    "        return int(''.join(l_num))  \n",
    "    \n",
    "    def return_triple_number(s):\n",
    "        l_num= []\n",
    "        list_of_three = s.split(' ')\n",
    "        \n",
    "        if len(list_of_three)==4:\n",
    "            for sub in list_of_three:\n",
    "                if sub in ones.values(): \n",
    "                    l_num.append(str(return_single_num(sub)))\n",
    "                if sub in tens.values():\n",
    "                    for k,v in tens.items():\n",
    "                        if sub == v:\n",
    "                            l_num.append(str(k))   \n",
    "             \n",
    "            \n",
    "        elif list_of_three[2] in ones.values():        \n",
    "            for sub in list_of_three:\n",
    "                if sub != 'hundred':\n",
    "                    l_num.append(str(return_single_num(sub)))\n",
    "                else:\n",
    "                    l_num.append('0')\n",
    "                    \n",
    "            if len(l_num[-1]) >1:\n",
    "                l_num.remove('0')\n",
    "                \n",
    "        elif list_of_three[2] in tens.values():\n",
    "            for sub in list_of_three:\n",
    "                if sub != 'hundred':\n",
    "                    l_num.append(str(return_single_num(sub)))\n",
    "                else:\n",
    "                    pass\n",
    "            l_num.append('0')\n",
    "        \n",
    "        elif 'hundred' not in list_of_three:\n",
    "            for sub in list_of_three:\n",
    "                l_num.append(str(return_single_num(sub)))\n",
    "\n",
    "                \n",
    "        return int(''.join(l_num))\n",
    "    \n",
    "\n",
    "    def pos_number(s):\n",
    "        count = s.count(' ')\n",
    "\n",
    "        if count == 0:\n",
    "            return return_single_num(s)\n",
    "\n",
    "        if count == 1:\n",
    "            return return_double_num(s)\n",
    "\n",
    "        if count == 2:    \n",
    "            return return_triple_number(s)\n",
    "\n",
    "        if count == 3:    \n",
    "            return return_triple_number(s)\n",
    "    \n",
    "    return [pos_number(n) for n in words_lst]\n"
   ]
  },
  {
   "cell_type": "code",
   "execution_count": 108,
   "metadata": {},
   "outputs": [
    {
     "name": "stdout",
     "output_type": "stream",
     "text": [
      "['ninety nine']\n",
      "[99]\n"
     ]
    }
   ],
   "source": [
    "print(sort_by_name([99]))"
   ]
  },
  {
   "cell_type": "markdown",
   "metadata": {},
   "source": [
    "# 7kyu"
   ]
  },
  {
   "cell_type": "markdown",
   "metadata": {},
   "source": [
    "https://www.codewars.com/kata/586a1af1c66d18ad81000134/train/python"
   ]
  },
  {
   "cell_type": "code",
   "execution_count": 261,
   "metadata": {},
   "outputs": [],
   "source": [
    "def driver(data):\n",
    "    \n",
    "    first_n, middle_n, last_n, dob, sex = tuple(data)\n",
    "    \n",
    "    #1-5:\n",
    "    if len(last_n)>=5:\n",
    "        one_five=last_n[:5].upper()\n",
    "    else:\n",
    "        n = 5-len(last_n)\n",
    "        one_five=(last_n+n*'9').upper()\n",
    "    \n",
    "    #6:\n",
    "    six = dob[-2]\n",
    "    \n",
    "    \n",
    "    months = ['Jan', 'Feb', 'Mar', 'Apr', 'May', 'Jun', 'Jul', 'Aug', 'Sep', 'Oct', 'Nov', 'Dec']\n",
    "    for month in months:\n",
    "        if month in dob:\n",
    "            n = str(months.index(month)+1)\n",
    "            if len(n)==1:\n",
    "                n='0'+n\n",
    "\n",
    "    if sex == 'M':\n",
    "        seven_eight = n\n",
    "    else:\n",
    "        seven_eight = str(int(n[0])+5)+n[-1]\n",
    "    \n",
    "#     #7-8:\n",
    "#     from dateutil.parser import parse\n",
    "#     if sex == 'M':\n",
    "#         seven_eight = datetime.strftime(parse(dob), '%m')\n",
    "#     else:\n",
    "#         month = datetime.strftime(parse(dob), '%m')\n",
    "#         seven_eight = str(int(month[0])+5)+month[-1]\n",
    "    \n",
    "    dob_list = dob.split('-')\n",
    "    nine_ten = dob_list[0]\n",
    "    \n",
    "#     #9-10:\n",
    "#     nine_ten = datetime.strftime(parse(dob), '%d')\n",
    "\n",
    "    eleven = dob_list[-1][-1]\n",
    "    \n",
    "#     #11:\n",
    "#     eleven = datetime.strftime(parse(dob), '%y')[-1]\n",
    "    \n",
    "    #12-13\n",
    "    if len(middle_n)==0:\n",
    "        twelve_thirteen = first_n[0]+'9'\n",
    "    else:\n",
    "        twelve_thirteen = first_n[0]+middle_n[0]\n",
    "    \n",
    "    return ''+one_five+six+seven_eight+nine_ten+eleven+twelve_thirteen+'9'+'AA'"
   ]
  },
  {
   "cell_type": "code",
   "execution_count": 262,
   "metadata": {},
   "outputs": [
    {
     "data": {
      "text/plain": [
       "'GIBBS862131J99AA'"
      ]
     },
     "execution_count": 262,
     "metadata": {},
     "output_type": "execute_result"
    }
   ],
   "source": [
    "driver(['Johanna', '', 'Gibbs', '13-Dec-1981', 'F'])"
   ]
  }
 ],
 "metadata": {
  "kernelspec": {
   "display_name": "Python 3",
   "language": "python",
   "name": "python3"
  },
  "language_info": {
   "codemirror_mode": {
    "name": "ipython",
    "version": 3
   },
   "file_extension": ".py",
   "mimetype": "text/x-python",
   "name": "python",
   "nbconvert_exporter": "python",
   "pygments_lexer": "ipython3",
   "version": "3.8.3"
  }
 },
 "nbformat": 4,
 "nbformat_minor": 4
}
