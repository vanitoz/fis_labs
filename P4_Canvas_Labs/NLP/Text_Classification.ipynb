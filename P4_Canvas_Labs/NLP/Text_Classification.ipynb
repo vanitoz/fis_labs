{
 "cells": [
  {
   "cell_type": "markdown",
   "metadata": {},
   "source": [
    "Before we can begin cleaning and preprocessing our text data, we need to make some decisions about things such as:\n",
    "\n",
    "* Do we remove stop words or not?\n",
    "* Do we stem or lemmatize our text data, or leave the words as is?\n",
    "* Is basic tokenization enough, or do we need to support special edge cases through the use of regex?\n",
    "* Do we use the entire vocabulary, or just limit the model to a subset of the most frequently used words? If so, how many?\n",
    "* Do we engineer other features, such as bigrams, or POS tags, or Mutual Information Scores?\n",
    "* What sort of vectorization should we use in our model? Boolean Vectorization? Count Vectorization? TF-IDF? More advanced vectorization strategies such as Word2Vec?"
   ]
  },
  {
   "cell_type": "markdown",
   "metadata": {},
   "source": [
    "# Getting Started\n",
    "\n",
    "For this lab, we'll be working with the classic Newsgroups Dataset, which is available as a training data set in sklearn.datasets. This dataset contains many different articles that fall into 1 of 20 possible classes. Our goal will be to build a classifier that can accurately predict the class of an article based on the features we create from the article itself!\n",
    "\n",
    "Let's get started. Run the cell below to import everything we'll need for this lab."
   ]
  },
  {
   "cell_type": "code",
   "execution_count": 41,
   "metadata": {},
   "outputs": [],
   "source": [
    "import nltk\n",
    "from nltk.corpus import stopwords\n",
    "import string\n",
    "from nltk import word_tokenize, FreqDist\n",
    "from sklearn.feature_extraction.text import TfidfVectorizer\n",
    "from sklearn.metrics import accuracy_score\n",
    "from sklearn.datasets import fetch_20newsgroups\n",
    "from sklearn.ensemble import RandomForestClassifier\n",
    "from sklearn.naive_bayes import MultinomialNB\n",
    "import pandas as pd\n",
    "import numpy as np\n",
    "np.random.seed(0)"
   ]
  },
  {
   "cell_type": "markdown",
   "metadata": {},
   "source": [
    "Now, we need to fetch our dataset. Run the cell below to download all the newsgroups articles and their corresponding labels. If this is the first time working with this dataset, scikit-learn will need to download all of the articles from an external repository -- the cell below may take a little while to run. \n",
    "\n",
    "The actual dataset is quite large. To save us from extremely long runtimes, we'll work with only a subset of the classes. Here is a list of all the possible classes:\n",
    "\n",
    "<img src='classes.png'>\n",
    "\n",
    "For this lab, we'll only work with the following five:\n",
    "\n",
    "* `'alt.atheism'`\n",
    "* `'comp.windows.x'`\n",
    "* `'rec.sport.hockey'`\n",
    "* `'sci.crypt'`\n",
    "* `'talk.politics.guns'`\n",
    "\n",
    "In the cell below:\n",
    "\n",
    "* Create a list called `categories` that contains the five newsgroups classes listed above, as strings \n",
    "* Get the training set by calling `fetch_20newsgroups()` and passing in the following parameters:\n",
    "    * `subset='train'`\n",
    "    * `categories=categories`\n",
    "    * `remove=('headers', 'footers', 'quotes')` -- this is so that the model can't overfit to metadata included in the articles that sometimes acts as a dead-giveaway as to what class the article belongs to  \n",
    "* Get the testing set as well by passing in the same parameters, with the exception of `subset='test` "
   ]
  },
  {
   "cell_type": "code",
   "execution_count": 42,
   "metadata": {},
   "outputs": [],
   "source": [
    "categories = ['alt.atheism', 'comp.windows.x', 'rec.sport.hockey', 'sci.crypt', 'talk.politics.guns']\n",
    "newsgroups_train = fetch_20newsgroups(subset='train', categories=categories, remove=('headers', 'footers', 'quotes'))\n",
    "newsgroups_test = fetch_20newsgroups(subset='test', categories=categories, remove=('headers', 'footers', 'quotes'))"
   ]
  },
  {
   "cell_type": "code",
   "execution_count": 43,
   "metadata": {},
   "outputs": [
    {
     "data": {
      "text/plain": [
       "dict_keys(['data', 'filenames', 'target_names', 'target', 'DESCR'])"
      ]
     },
     "execution_count": 43,
     "metadata": {},
     "output_type": "execute_result"
    }
   ],
   "source": [
    "newsgroups_train.keys()"
   ]
  },
  {
   "cell_type": "code",
   "execution_count": 49,
   "metadata": {},
   "outputs": [],
   "source": [
    "df = pd.DataFrame(newsgroups_train.data, newsgroups_train.target).reset_index()"
   ]
  },
  {
   "cell_type": "code",
   "execution_count": 14,
   "metadata": {},
   "outputs": [
    {
     "data": {
      "text/plain": [
       "['alt.atheism',\n",
       " 'comp.windows.x',\n",
       " 'rec.sport.hockey',\n",
       " 'sci.crypt',\n",
       " 'talk.politics.guns']"
      ]
     },
     "execution_count": 14,
     "metadata": {},
     "output_type": "execute_result"
    }
   ],
   "source": [
    "data = newsgroups_train.data\n",
    "target = newsgroups_train.target\n",
    "label_names = newsgroups_train.target_names\n",
    "label_names"
   ]
  },
  {
   "cell_type": "code",
   "execution_count": 11,
   "metadata": {},
   "outputs": [
    {
     "data": {
      "text/plain": [
       "array(['/Users/ivan/scikit_learn_data/20news_home/20news-bydate-train/talk.politics.guns/54197',\n",
       "       '/Users/ivan/scikit_learn_data/20news_home/20news-bydate-train/sci.crypt/15368',\n",
       "       '/Users/ivan/scikit_learn_data/20news_home/20news-bydate-train/comp.windows.x/67382',\n",
       "       ...,\n",
       "       '/Users/ivan/scikit_learn_data/20news_home/20news-bydate-train/sci.crypt/15715',\n",
       "       '/Users/ivan/scikit_learn_data/20news_home/20news-bydate-train/talk.politics.guns/53319',\n",
       "       '/Users/ivan/scikit_learn_data/20news_home/20news-bydate-train/sci.crypt/15374'],\n",
       "      dtype='<U92')"
      ]
     },
     "execution_count": 11,
     "metadata": {},
     "output_type": "execute_result"
    }
   ],
   "source": [
    "newsgroups_train.filenames"
   ]
  },
  {
   "cell_type": "markdown",
   "metadata": {},
   "source": [
    "---\n",
    "Finally, let's check the shape of data to see what our data looks like. We can do this by checking the .shape attribute of newsgroups_train.filenames."
   ]
  },
  {
   "cell_type": "code",
   "execution_count": 24,
   "metadata": {},
   "outputs": [
    {
     "data": {
      "text/plain": [
       "(2814,)"
      ]
     },
     "execution_count": 24,
     "metadata": {},
     "output_type": "execute_result"
    }
   ],
   "source": [
    "# 2,814 different articles spread across the five classes we chose.\n",
    "newsgroups_train.filenames.shape   "
   ]
  },
  {
   "cell_type": "markdown",
   "metadata": {},
   "source": [
    "Our dataset contains 2,814 different articles spread across the five classes we chose. \n",
    "\n",
    "### Cleaning and Preprocessing Our Data\n",
    "\n",
    "Now that we have our data, the fun part begins. We'll need to begin by preprocessing and cleaning our text data. As you've seen throughout this section, preprocessing text data is a bit more challenging that working with more traditional data types because there's no clear-cut answer for exactly what sort of preprocessing and cleaning we need to do. Before we can begin cleaning and preprocessing our text data, we need to make some decisions about things such as:\n",
    "\n",
    "* Do we remove stop words or not?\n",
    "* Do we stem or lemmatize our text data, or leave the words as is?\n",
    "* Is basic tokenization enough, or do we need to support special edge cases through the use of regex?\n",
    "* Do we use the entire vocabulary, or just limit the model to a subset of the most frequently used words? If so, how many?\n",
    "* Do we engineer other features, such as bigrams, or POS tags, or Mutual Information Scores?\n",
    "* What sort of vectorization should we use in our model? Boolean Vectorization? Count Vectorization? TF-IDF? More advanced vectorization strategies such as Word2Vec?\n",
    "\n",
    "\n",
    "These are all questions that we'll need to think about pretty much anytime we begin working with text data. \n",
    "\n",
    "Let's get right into it. We'll start by getting a list of all of the english stopwords, and concatenating them with a list of all the punctuation. \n",
    "\n",
    "In the cell below:\n",
    "\n",
    "* Get all the english stopwords from `nltk` \n",
    "* Get all of the punctuation from `string.punctuation`, and convert it to a list \n",
    "* Add the two lists together. Name the result `stopwords_list` \n",
    "* Create another list containing various types of empty strings and ellipses, such as `[\"''\", '\"\"', '...', '``']`. Add this to our `stopwords_list`, so that we won't have tokens that are only empty quotes and such  "
   ]
  },
  {
   "cell_type": "code",
   "execution_count": 25,
   "metadata": {},
   "outputs": [],
   "source": [
    "stopwords_list = stopwords.words('english') + list(string.punctuation)\n",
    "stopwords_list += [\"''\", '\"\"', '...', '``']"
   ]
  },
  {
   "cell_type": "markdown",
   "metadata": {},
   "source": [
    "Great! We'll leave these alone for now, until we're ready to remove stop words after the tokenization step. \n",
    "\n",
    "Next, let's try tokenizing our dataset. In order to save ourselves some time, we'll write a function to clean our dataset, and then use Python's built-in `map()` function to clean every article in the dataset at the same time. \n",
    "\n",
    "In the cell below, complete the `process_article()` function. This function should:\n",
    "\n",
    "* Take in one parameter, `article` \n",
    "* Tokenize the article using the appropriate function from `nltk` \n",
    "* Lowercase every token, remove any stopwords found in `stopwords_list` from the tokenized article, and return the results "
   ]
  },
  {
   "cell_type": "code",
   "execution_count": 26,
   "metadata": {},
   "outputs": [],
   "source": [
    "def process_article(article):\n",
    "    tokens = nltk.word_tokenize(article)\n",
    "    stopwords_removed = [token.lower() for token in tokens if token.lower() not in stopwords_list] \n",
    "    return stopwords_removed"
   ]
  },
  {
   "cell_type": "markdown",
   "metadata": {},
   "source": [
    "Now that we have this function, let's go ahead and preprocess our data, and then move into exploring our dataset. \n",
    "\n",
    "In the cell below:\n",
    "\n",
    "* Use Python's `map()` function and pass in two parameters: the `process_article` function and the `data`. Make sure to wrap the whole map statement in a `list()`.\n",
    "\n",
    "**_Note:_** Running this cell may take a minute or two!"
   ]
  },
  {
   "cell_type": "code",
   "execution_count": 31,
   "metadata": {},
   "outputs": [],
   "source": [
    "processed_data = list(map(process_article, data))"
   ]
  },
  {
   "cell_type": "code",
   "execution_count": 33,
   "metadata": {},
   "outputs": [
    {
     "data": {
      "text/plain": [
       "['note',\n",
       " 'trial',\n",
       " 'updates',\n",
       " 'summarized',\n",
       " 'reports',\n",
       " '_idaho',\n",
       " 'statesman_',\n",
       " 'local',\n",
       " 'nbc',\n",
       " 'affiliate',\n",
       " 'television',\n",
       " 'station',\n",
       " 'ktvb',\n",
       " 'channel',\n",
       " '7',\n",
       " 'randy',\n",
       " 'weaver/kevin',\n",
       " 'harris',\n",
       " 'trial',\n",
       " 'update']"
      ]
     },
     "execution_count": 33,
     "metadata": {},
     "output_type": "execute_result"
    }
   ],
   "source": [
    "processed_data[0][:20]"
   ]
  },
  {
   "cell_type": "markdown",
   "metadata": {},
   "source": [
    "Now, let's move onto exploring the dataset a bit more. Let's start by getting the total vocabulary size of the training dataset. We can do this by creating a `set` object and then using it's `.update()` method to iteratively add each article. Since it's a set, it will only contain unique words, with no duplicates. \n",
    "\n",
    "In the cell below:\n",
    "\n",
    "* Create a `set()` object called `total_vocab` \n",
    "* Iterate through each tokenized article in `processed_data` and add it to the set using the set's `.update()` method \n",
    "* Once all articles have been added, get the total number of unique words in our training set by taking the length of the set "
   ]
  },
  {
   "cell_type": "code",
   "execution_count": 39,
   "metadata": {},
   "outputs": [
    {
     "data": {
      "text/plain": [
       "46990"
      ]
     },
     "execution_count": 39,
     "metadata": {},
     "output_type": "execute_result"
    }
   ],
   "source": [
    "total_vocab = set()\n",
    "for atricle in processed_data:\n",
    "    total_vocab.update(atricle)\n",
    "len(total_vocab)"
   ]
  },
  {
   "cell_type": "markdown",
   "metadata": {},
   "source": [
    "# Exploring Data With Frequency Distributions\n",
    "\n",
    "\n",
    "Great -- our processed dataset contains 46,990 unique words! \n",
    "\n",
    "Next, let's create a frequency distribution to see which words are used the most! \n",
    "\n",
    "In order to do this, we'll need to concatenate every article into a single list, and then pass this list to `FreqDist()`. \n",
    "\n",
    "In the cell below:\n",
    "\n",
    "* Create an empty list called `articles_concat` \n",
    "* Iterate through `processed_data` and add every article it contains to `articles_concat` \n",
    "* Pass `articles_concat` as input to `FreqDist()`  \n",
    "* Display the top 200 most used words  "
   ]
  },
  {
   "cell_type": "code",
   "execution_count": 48,
   "metadata": {},
   "outputs": [],
   "source": [
    "articles_concat = []\n",
    "for article in processed_data:\n",
    "    articles_concat += article"
   ]
  },
  {
   "cell_type": "code",
   "execution_count": 52,
   "metadata": {},
   "outputs": [
    {
     "data": {
      "text/plain": [
       "[('--', 29501),\n",
       " ('x', 4840),\n",
       " (\"'s\", 3203),\n",
       " (\"n't\", 2933),\n",
       " ('1', 2529),\n",
       " ('would', 1985),\n",
       " ('0', 1975),\n",
       " ('one', 1758),\n",
       " ('2', 1664),\n",
       " ('people', 1243),\n",
       " ('use', 1146),\n",
       " ('get', 1068),\n",
       " ('like', 1036),\n",
       " ('file', 1024),\n",
       " ('3', 1005),\n",
       " ('also', 875),\n",
       " ('key', 869),\n",
       " ('4', 864),\n",
       " ('could', 853),\n",
       " ('know', 814)]"
      ]
     },
     "execution_count": 52,
     "metadata": {},
     "output_type": "execute_result"
    }
   ],
   "source": [
    "articles_freqdist = FreqDist(articles_concat)\n",
    "articles_freqdist.most_common(20)"
   ]
  },
  {
   "cell_type": "markdown",
   "metadata": {},
   "source": [
    "---\n",
    "At first glance, none of these words seem very informative -- for most of the words represented here, it would be tough to guess if a given word is used equally among all five classes, or is disproportionately represented among a single class. This makes sense, because this frequency distribution represents all the classes combined. This tells us that these words are probably the least important, as they are most likely words that are used across multiple classes, thereby providing our model with little actual signal as to what class they belong to. This tells us that we probably want to focus on words that appear heavily in articles from a given class, but rarely appear in articles from other classes. You may recall from previous lessons that this is exactly where **_TF-IDF Vectorization_** really shines!\n",
    "\n",
    "### Vectorizing with TF-IDF\n",
    "\n",
    "Although NLTK does provide functionality for vectorizing text documents with TF-IDF, we'll make use of scikit-learn's TF-IDF vectorizer, because we already have experience with it, and because it's a bit easier to use, especially when the models we'll be feeding the vectorized data into are from scikit-learn, meaning that we don't have to worry about doing any extra processing to ensure they play nicely together. \n",
    "\n",
    "Recall that in order to use scikit-learn's `TfidfVectorizer()`, we need to pass in the data as raw text documents -- the `TfidfVectorizer()` handles the count vectorization process on it's own, and then fits and transforms the data into TF-IDF format. \n",
    "\n",
    "This means that we need to:\n",
    "\n",
    "* Import `TfidfVectorizer` from `sklearn.feature_extraction.text` and instantiate `TfidfVectorizer()` \n",
    "* Call the vectorizer object's `.fit_transform()` method and pass in our `data` as input. Store the results in `tf_idf_data_train` \n",
    "* Also create a vectorized version of our testing data, which can be found in `newsgroups_test.data`. Store the results in `tf_idf_data_test`. \n",
    "\n",
    "\n",
    "**_NOTE:_** When transforming the test data, use the `.transform()` method, not the `.fit_transform()` method, as the vectorizer has already been fit to the training data. "
   ]
  },
  {
   "cell_type": "code",
   "execution_count": 53,
   "metadata": {},
   "outputs": [],
   "source": [
    "from sklearn.feature_extraction.text import TfidfVectorizer"
   ]
  },
  {
   "cell_type": "code",
   "execution_count": 54,
   "metadata": {},
   "outputs": [],
   "source": [
    "vectorizer = TfidfVectorizer()"
   ]
  },
  {
   "cell_type": "code",
   "execution_count": 55,
   "metadata": {},
   "outputs": [],
   "source": [
    "tf_idf_data_train = vectorizer.fit_transform(data)"
   ]
  },
  {
   "cell_type": "code",
   "execution_count": 56,
   "metadata": {},
   "outputs": [],
   "source": [
    "tf_idf_data_test = vectorizer.transform(newsgroups_test.data)\n"
   ]
  },
  {
   "cell_type": "markdown",
   "metadata": {},
   "source": [
    "### Modeling Our Data\n",
    "\n",
    "Great! We've now preprocessed and explored our dataset, let's take a second to see what our data looks like in vectorized form. \n",
    "\n",
    "In the cell below, get the shape of `tf_idf_data`."
   ]
  },
  {
   "cell_type": "code",
   "execution_count": 65,
   "metadata": {},
   "outputs": [
    {
     "data": {
      "text/plain": [
       "(2814, 36622)"
      ]
     },
     "execution_count": 65,
     "metadata": {},
     "output_type": "execute_result"
    }
   ],
   "source": [
    "tf_idf_data_train.shape"
   ]
  },
  {
   "cell_type": "markdown",
   "metadata": {},
   "source": [
    "Our vectorized data contains 2,814 articles, with 36,622 unique words in the vocabulary. However, the vast majority of these columns for any given article will be zero, since every article only contains a small subset of the total vocabulary. Recall that vectors mostly filled with zeros are referred to as Sparse Vectors. These are extremely common when working with text data.\n",
    "\n",
    "Let's check out the average number of non-zero columns in the vectors. Run the cell below to calculate this average."
   ]
  },
  {
   "cell_type": "code",
   "execution_count": 66,
   "metadata": {},
   "outputs": [
    {
     "name": "stdout",
     "output_type": "stream",
     "text": [
      "Average Number of Non-Zero Elements in Vectorized Articles: 107.28038379530916\n",
      "Percentage of columns containing 0: 0.9970706028126451\n"
     ]
    }
   ],
   "source": [
    "non_zero_cols = tf_idf_data_train.nnz / float(tf_idf_data_train.shape[0])\n",
    "print(\"Average Number of Non-Zero Elements in Vectorized Articles: {}\".format(non_zero_cols))\n",
    "\n",
    "percent_sparse = 1 - (non_zero_cols / float(tf_idf_data_train.shape[1]))\n",
    "print('Percentage of columns containing 0: {}'.format(percent_sparse))"
   ]
  },
  {
   "cell_type": "markdown",
   "metadata": {},
   "source": [
    "As we can see from the output above, the average vectorized article contains 107 non-zero columns. This means that 99.7% of each vector is actually zeroes! This is one reason why it's best not to create your own vectorizers, and rely on professional packages such as scikit-learn and NLTK instead -- they contain many speed and memory optimizations specifically for dealing with sparse vectors. This way, we aren't wasting a giant chunk of memory on a vectorized dataset that only has valid information in 0.3% of it. \n",
    "\n",
    "Now that we've vectorized our dataset, let's create some models and fit them to our vectorized training data. \n",
    "\n",
    "In the cell below:\n",
    "\n",
    "* Instantiate `MultinomialNB()` and `RandomForestClassifier()`. For random forest, set `n_estimators` to `100`. Don't worry about tweaking any of the other parameters  \n",
    "* Fit each to our vectorized training data \n",
    "* Create predictions for our training and test sets\n",
    "* Calculate the `accuracy_score()` for both the training and test sets (you'll find our training labels stored within the variable `target`, and the test labels stored within `newsgroups_test.target`) "
   ]
  },
  {
   "cell_type": "code",
   "execution_count": 67,
   "metadata": {},
   "outputs": [],
   "source": [
    "nb_classifier = MultinomialNB()\n",
    "rf_classifier = RandomForestClassifier(n_estimators = 100)"
   ]
  },
  {
   "cell_type": "code",
   "execution_count": 70,
   "metadata": {},
   "outputs": [],
   "source": [
    "nb_classifier.fit(tf_idf_data_train, target)\n",
    "nb_train_preds = nb_classifier.predict(tf_idf_data_train)\n",
    "nb_test_preds = nb_classifier.predict(tf_idf_data_test)"
   ]
  },
  {
   "cell_type": "code",
   "execution_count": 71,
   "metadata": {},
   "outputs": [],
   "source": [
    "rf_classifier.fit(tf_idf_data_train, target)\n",
    "rf_train_preds = rf_classifier.predict(tf_idf_data_train)\n",
    "rf_test_preds = rf_classifier.predict(tf_idf_data_test)"
   ]
  },
  {
   "cell_type": "code",
   "execution_count": 72,
   "metadata": {},
   "outputs": [],
   "source": [
    "nb_train_score = accuracy_score(target, nb_train_preds)\n",
    "nb_test_score = accuracy_score(newsgroups_test.target, nb_test_preds)\n",
    "rf_train_score = accuracy_score(target, rf_train_preds)\n",
    "rf_test_score = accuracy_score(newsgroups_test.target, rf_test_preds)"
   ]
  },
  {
   "cell_type": "code",
   "execution_count": 73,
   "metadata": {},
   "outputs": [
    {
     "name": "stdout",
     "output_type": "stream",
     "text": [
      "Multinomial Naive Bayes\n",
      "Training Accuracy: 0.9531 \t\t Testing Accuracy: 0.8126\n",
      "\n",
      "----------------------------------------------------------------------\n",
      "\n",
      "Random Forest\n",
      "Training Accuracy: 0.9851 \t\t Testing Accuracy: 0.795\n"
     ]
    }
   ],
   "source": [
    "print(\"Multinomial Naive Bayes\")\n",
    "print(\"Training Accuracy: {:.4} \\t\\t Testing Accuracy: {:.4}\".format(nb_train_score, nb_test_score))\n",
    "print(\"\")\n",
    "print('-'*70)\n",
    "print(\"\")\n",
    "print('Random Forest')\n",
    "print(\"Training Accuracy: {:.4} \\t\\t Testing Accuracy: {:.4}\".format(rf_train_score, rf_test_score))"
   ]
  },
  {
   "cell_type": "code",
   "execution_count": 74,
   "metadata": {},
   "outputs": [
    {
     "data": {
      "text/plain": [
       "\"\\nThe models did well. Since there are five classes, the naive accuracy rate (random guessing) would be 20%. \\nWith scores of 78 and 81 percent, the models did much better than random guessing. \\nThere is some evidence of overfitting, as the scores on the training set are much higher than those of the test set. \\nThis suggests that the models' fits could be improved with some tuning.\\n\""
      ]
     },
     "execution_count": 74,
     "metadata": {},
     "output_type": "execute_result"
    }
   ],
   "source": [
    "\"\"\"\n",
    "The models did well. Since there are five classes, the naive accuracy rate (random guessing) would be 20%. \n",
    "With scores of 78 and 81 percent, the models did much better than random guessing. \n",
    "There is some evidence of overfitting, as the scores on the training set are much higher than those of the test set. \n",
    "This suggests that the models' fits could be improved with some tuning.\n",
    "\"\"\""
   ]
  },
  {
   "cell_type": "code",
   "execution_count": null,
   "metadata": {},
   "outputs": [],
   "source": []
  }
 ],
 "metadata": {
  "kernelspec": {
   "display_name": "Python 3",
   "language": "python",
   "name": "python3"
  },
  "language_info": {
   "codemirror_mode": {
    "name": "ipython",
    "version": 3
   },
   "file_extension": ".py",
   "mimetype": "text/x-python",
   "name": "python",
   "nbconvert_exporter": "python",
   "pygments_lexer": "ipython3",
   "version": "3.7.6"
  }
 },
 "nbformat": 4,
 "nbformat_minor": 4
}
