{
 "cells": [
  {
   "cell_type": "code",
   "execution_count": 81,
   "metadata": {},
   "outputs": [],
   "source": [
    "import pandas as pd\n",
    "import numpy as np\n",
    "\n",
    "from sklearn.datasets import load_breast_cancer\n",
    "from sklearn.model_selection import train_test_split\n",
    "\n",
    "from sklearn.preprocessing import StandardScaler\n",
    "from sklearn.decomposition import PCA\n",
    "\n",
    "import matplotlib.pyplot as plt\n",
    "import seaborn as sns\n",
    "%matplotlib inline\n",
    "sns.set_style('darkgrid')\n",
    "\n",
    "import warnings\n",
    "warnings.filterwarnings('ignore')"
   ]
  },
  {
   "cell_type": "code",
   "execution_count": 82,
   "metadata": {},
   "outputs": [],
   "source": [
    "cancer = load_breast_cancer()\n",
    "df = pd.DataFrame(data= cancer.data, columns=cancer.feature_names)\n",
    "df['target'] = cancer.target"
   ]
  },
  {
   "cell_type": "code",
   "execution_count": 83,
   "metadata": {},
   "outputs": [
    {
     "data": {
      "text/html": [
       "<div>\n",
       "<style scoped>\n",
       "    .dataframe tbody tr th:only-of-type {\n",
       "        vertical-align: middle;\n",
       "    }\n",
       "\n",
       "    .dataframe tbody tr th {\n",
       "        vertical-align: top;\n",
       "    }\n",
       "\n",
       "    .dataframe thead th {\n",
       "        text-align: right;\n",
       "    }\n",
       "</style>\n",
       "<table border=\"1\" class=\"dataframe\">\n",
       "  <thead>\n",
       "    <tr style=\"text-align: right;\">\n",
       "      <th></th>\n",
       "      <th>mean radius</th>\n",
       "      <th>mean texture</th>\n",
       "      <th>mean perimeter</th>\n",
       "      <th>mean area</th>\n",
       "      <th>mean smoothness</th>\n",
       "      <th>mean compactness</th>\n",
       "      <th>mean concavity</th>\n",
       "      <th>mean concave points</th>\n",
       "      <th>mean symmetry</th>\n",
       "      <th>mean fractal dimension</th>\n",
       "      <th>...</th>\n",
       "      <th>worst texture</th>\n",
       "      <th>worst perimeter</th>\n",
       "      <th>worst area</th>\n",
       "      <th>worst smoothness</th>\n",
       "      <th>worst compactness</th>\n",
       "      <th>worst concavity</th>\n",
       "      <th>worst concave points</th>\n",
       "      <th>worst symmetry</th>\n",
       "      <th>worst fractal dimension</th>\n",
       "      <th>target</th>\n",
       "    </tr>\n",
       "  </thead>\n",
       "  <tbody>\n",
       "    <tr>\n",
       "      <th>0</th>\n",
       "      <td>17.99</td>\n",
       "      <td>10.38</td>\n",
       "      <td>122.8</td>\n",
       "      <td>1001.0</td>\n",
       "      <td>0.11840</td>\n",
       "      <td>0.27760</td>\n",
       "      <td>0.3001</td>\n",
       "      <td>0.14710</td>\n",
       "      <td>0.2419</td>\n",
       "      <td>0.07871</td>\n",
       "      <td>...</td>\n",
       "      <td>17.33</td>\n",
       "      <td>184.6</td>\n",
       "      <td>2019.0</td>\n",
       "      <td>0.1622</td>\n",
       "      <td>0.6656</td>\n",
       "      <td>0.7119</td>\n",
       "      <td>0.2654</td>\n",
       "      <td>0.4601</td>\n",
       "      <td>0.11890</td>\n",
       "      <td>0</td>\n",
       "    </tr>\n",
       "    <tr>\n",
       "      <th>1</th>\n",
       "      <td>20.57</td>\n",
       "      <td>17.77</td>\n",
       "      <td>132.9</td>\n",
       "      <td>1326.0</td>\n",
       "      <td>0.08474</td>\n",
       "      <td>0.07864</td>\n",
       "      <td>0.0869</td>\n",
       "      <td>0.07017</td>\n",
       "      <td>0.1812</td>\n",
       "      <td>0.05667</td>\n",
       "      <td>...</td>\n",
       "      <td>23.41</td>\n",
       "      <td>158.8</td>\n",
       "      <td>1956.0</td>\n",
       "      <td>0.1238</td>\n",
       "      <td>0.1866</td>\n",
       "      <td>0.2416</td>\n",
       "      <td>0.1860</td>\n",
       "      <td>0.2750</td>\n",
       "      <td>0.08902</td>\n",
       "      <td>0</td>\n",
       "    </tr>\n",
       "    <tr>\n",
       "      <th>2</th>\n",
       "      <td>19.69</td>\n",
       "      <td>21.25</td>\n",
       "      <td>130.0</td>\n",
       "      <td>1203.0</td>\n",
       "      <td>0.10960</td>\n",
       "      <td>0.15990</td>\n",
       "      <td>0.1974</td>\n",
       "      <td>0.12790</td>\n",
       "      <td>0.2069</td>\n",
       "      <td>0.05999</td>\n",
       "      <td>...</td>\n",
       "      <td>25.53</td>\n",
       "      <td>152.5</td>\n",
       "      <td>1709.0</td>\n",
       "      <td>0.1444</td>\n",
       "      <td>0.4245</td>\n",
       "      <td>0.4504</td>\n",
       "      <td>0.2430</td>\n",
       "      <td>0.3613</td>\n",
       "      <td>0.08758</td>\n",
       "      <td>0</td>\n",
       "    </tr>\n",
       "  </tbody>\n",
       "</table>\n",
       "<p>3 rows × 31 columns</p>\n",
       "</div>"
      ],
      "text/plain": [
       "   mean radius  mean texture  mean perimeter  mean area  mean smoothness  \\\n",
       "0        17.99         10.38           122.8     1001.0          0.11840   \n",
       "1        20.57         17.77           132.9     1326.0          0.08474   \n",
       "2        19.69         21.25           130.0     1203.0          0.10960   \n",
       "\n",
       "   mean compactness  mean concavity  mean concave points  mean symmetry  \\\n",
       "0           0.27760          0.3001              0.14710         0.2419   \n",
       "1           0.07864          0.0869              0.07017         0.1812   \n",
       "2           0.15990          0.1974              0.12790         0.2069   \n",
       "\n",
       "   mean fractal dimension  ...  worst texture  worst perimeter  worst area  \\\n",
       "0                 0.07871  ...          17.33            184.6      2019.0   \n",
       "1                 0.05667  ...          23.41            158.8      1956.0   \n",
       "2                 0.05999  ...          25.53            152.5      1709.0   \n",
       "\n",
       "   worst smoothness  worst compactness  worst concavity  worst concave points  \\\n",
       "0            0.1622             0.6656           0.7119                0.2654   \n",
       "1            0.1238             0.1866           0.2416                0.1860   \n",
       "2            0.1444             0.4245           0.4504                0.2430   \n",
       "\n",
       "   worst symmetry  worst fractal dimension  target  \n",
       "0          0.4601                  0.11890       0  \n",
       "1          0.2750                  0.08902       0  \n",
       "2          0.3613                  0.08758       0  \n",
       "\n",
       "[3 rows x 31 columns]"
      ]
     },
     "execution_count": 83,
     "metadata": {},
     "output_type": "execute_result"
    }
   ],
   "source": [
    "df.head(3)"
   ]
  },
  {
   "cell_type": "code",
   "execution_count": 86,
   "metadata": {},
   "outputs": [],
   "source": [
    "# Separating out the target\n",
    "y = df.loc[:,['target']].values\n",
    "x = df.drop(columns=['target'])\n",
    "features = x.columns"
   ]
  },
  {
   "cell_type": "code",
   "execution_count": 87,
   "metadata": {},
   "outputs": [],
   "source": [
    "# Standardizing the features\n",
    "x = StandardScaler().fit_transform(x)"
   ]
  },
  {
   "cell_type": "code",
   "execution_count": 88,
   "metadata": {},
   "outputs": [],
   "source": [
    "# create principal components \n",
    "pca = PCA(n_components = 0.9)\n",
    "principalComponents = pca.fit_transform(x)\n",
    "# principalDf = pd.DataFrame(data = principalComponents, columns = ['principal component 1', 'principal component 2',\n",
    "#                                                                 'principal component 3','principal component 4',      "
   ]
  },
  {
   "cell_type": "code",
   "execution_count": 89,
   "metadata": {},
   "outputs": [
    {
     "data": {
      "text/plain": [
       "array([0.44272026, 0.18971182, 0.09393163, 0.06602135, 0.05495768,\n",
       "       0.04024522, 0.02250734])"
      ]
     },
     "execution_count": 89,
     "metadata": {},
     "output_type": "execute_result"
    }
   ],
   "source": [
    "pca.explained_variance_ratio_"
   ]
  },
  {
   "cell_type": "code",
   "execution_count": 90,
   "metadata": {},
   "outputs": [
    {
     "data": {
      "text/plain": [
       "array([13.30499079,  5.7013746 ,  2.82291016,  1.98412752,  1.65163324,\n",
       "        1.20948224,  0.67640888])"
      ]
     },
     "execution_count": 90,
     "metadata": {},
     "output_type": "execute_result"
    }
   ],
   "source": [
    "pca.explained_variance_"
   ]
  },
  {
   "cell_type": "code",
   "execution_count": 91,
   "metadata": {},
   "outputs": [
    {
     "name": "stdout",
     "output_type": "stream",
     "text": [
      "13.304990794374538\n",
      "[0.21890244 0.10372458 0.22753729 0.22099499 0.14258969 0.23928535\n",
      " 0.25840048 0.26085376 0.13816696 0.06436335 0.20597878 0.01742803\n",
      " 0.21132592 0.20286964 0.01453145 0.17039345 0.15358979 0.1834174\n",
      " 0.04249842 0.10256832 0.22799663 0.10446933 0.23663968 0.22487053\n",
      " 0.12795256 0.21009588 0.22876753 0.25088597 0.12290456 0.13178394]\n"
     ]
    }
   ],
   "source": [
    "eig_values = pca.explained_variance_\n",
    "eig_vectors = pca.components_\n",
    "print(eig_values[0])\n",
    "print(eig_vectors[0])"
   ]
  },
  {
   "cell_type": "code",
   "execution_count": 92,
   "metadata": {},
   "outputs": [
    {
     "name": "stdout",
     "output_type": "stream",
     "text": [
      "5.701374603726142\n",
      "[-0.23385713 -0.05970609 -0.21518136 -0.23107671  0.18611302  0.15189161\n",
      "  0.06016536 -0.0347675   0.19034877  0.36657547 -0.10555215  0.08997968\n",
      " -0.08945723 -0.15229263  0.20443045  0.2327159   0.19720728  0.13032156\n",
      "  0.183848    0.28009203 -0.21986638 -0.0454673  -0.19987843 -0.21935186\n",
      "  0.17230435  0.14359317  0.09796411 -0.00825724  0.14188335  0.27533947]\n"
     ]
    }
   ],
   "source": [
    "eig_values = pca.explained_variance_\n",
    "eig_vectors = pca.components_\n",
    "print(eig_values[1])\n",
    "print(eig_vectors[1])"
   ]
  },
  {
   "cell_type": "code",
   "execution_count": 93,
   "metadata": {},
   "outputs": [],
   "source": [
    "pc1 = pca.components_[0]\n",
    "pc2 = pca.components_[1]"
   ]
  },
  {
   "cell_type": "code",
   "execution_count": 94,
   "metadata": {},
   "outputs": [
    {
     "name": "stdout",
     "output_type": "stream",
     "text": [
      "[0.21890244 0.10372458 0.22753729 0.22099499 0.14258969 0.23928535\n",
      " 0.25840048 0.26085376 0.13816696 0.06436335 0.20597878 0.01742803\n",
      " 0.21132592 0.20286964 0.01453145 0.17039345 0.15358979 0.1834174\n",
      " 0.04249842 0.10256832 0.22799663 0.10446933 0.23663968 0.22487053\n",
      " 0.12795256 0.21009588 0.22876753 0.25088597 0.12290456 0.13178394]\n",
      "[-0.23385713 -0.05970609 -0.21518136 -0.23107671  0.18611302  0.15189161\n",
      "  0.06016536 -0.0347675   0.19034877  0.36657547 -0.10555215  0.08997968\n",
      " -0.08945723 -0.15229263  0.20443045  0.2327159   0.19720728  0.13032156\n",
      "  0.183848    0.28009203 -0.21986638 -0.0454673  -0.19987843 -0.21935186\n",
      "  0.17230435  0.14359317  0.09796411 -0.00825724  0.14188335  0.27533947]\n"
     ]
    }
   ],
   "source": [
    "print(pc1)\n",
    "print(pc2)"
   ]
  },
  {
   "cell_type": "code",
   "execution_count": 114,
   "metadata": {},
   "outputs": [
    {
     "data": {
      "text/plain": [
       "mean concave points        0.951490\n",
       "mean concavity             0.942542\n",
       "worst concave points       0.915132\n",
       "mean compactness           0.872817\n",
       "worst perimeter            0.863167\n",
       "worst concavity            0.834453\n",
       "worst radius               0.831641\n",
       "mean perimeter             0.829965\n",
       "worst area                 0.820238\n",
       "mean area                  0.806101\n",
       "mean radius                0.798469\n",
       "perimeter error            0.770833\n",
       "worst compactness          0.766346\n",
       "radius error               0.751328\n",
       "area error                 0.739987\n",
       "concave points error       0.669033\n",
       "compactness error          0.621527\n",
       "concavity error            0.560234\n",
       "mean smoothness            0.520110\n",
       "mean symmetry              0.503978\n",
       "worst fractal dimension    0.480695\n",
       "worst smoothness           0.466720\n",
       "worst symmetry             0.448307\n",
       "worst texture              0.381062\n",
       "mean texture               0.378346\n",
       "fractal dimension error    0.374128\n",
       "mean fractal dimension     0.234772\n",
       "symmetry error             0.155017\n",
       "texture error              0.063570\n",
       "smoothness error           0.053005\n",
       "dtype: float64"
      ]
     },
     "execution_count": 114,
     "metadata": {},
     "output_type": "execute_result"
    }
   ],
   "source": [
    "# get the loadings\n",
    "structure_loading_1 = pc1* np.sqrt(eig_values[0])\n",
    "str_loading_1 = pd.Series(structure_loading_1, index=features).sort_values(ascending=False)\n",
    "str_loading_1.iloc[:]"
   ]
  },
  {
   "cell_type": "code",
   "execution_count": 98,
   "metadata": {},
   "outputs": [
    {
     "data": {
      "text/plain": [
       "Text(0,0.5,'proportion of explained variance')"
      ]
     },
     "execution_count": 98,
     "metadata": {},
     "output_type": "execute_result"
    },
    {
     "data": {
      "image/png": "[encoded data removed]",
      "text/plain": [
       "<Figure size 432x288 with 1 Axes>"
      ]
     },
     "metadata": {},
     "output_type": "display_data"
    }
   ],
   "source": [
    "index = np.arange(7)\n",
    "plt.bar(index, pca.explained_variance_ratio_)\n",
    "plt.title('Scree plot for PCA')\n",
    "plt.xlabel('Num of components')\n",
    "plt.ylabel('proportion of explained variance')"
   ]
  },
  {
   "cell_type": "markdown",
   "metadata": {},
   "source": [
    "## PC1 - SHAPE"
   ]
  },
  {
   "cell_type": "code",
   "execution_count": 111,
   "metadata": {},
   "outputs": [],
   "source": [
    "# get the loadings\n",
    "structure_loading_2 = pc2* np.sqrt(eig_values[1])\n",
    "str_loading_2 = pd.Series(structure_loading_2, index=features).sort_values(ascending=False)"
   ]
  },
  {
   "cell_type": "code",
   "execution_count": 113,
   "metadata": {},
   "outputs": [
    {
     "data": {
      "text/plain": [
       "mean fractal dimension     0.875292\n",
       "fractal dimension error    0.668791\n",
       "worst fractal dimension    0.657443\n",
       "compactness error          0.555669\n",
       "smoothness error           0.488130\n",
       "concavity error            0.470883\n",
       "mean symmetry              0.454506\n",
       "mean smoothness            0.444392\n",
       "symmetry error             0.438984\n",
       "worst smoothness           0.411421\n",
       "mean compactness           0.362680\n",
       "worst compactness          0.342865\n",
       "worst symmetry             0.338783\n",
       "concave points error       0.311176\n",
       "worst concavity            0.233914\n",
       "texture error              0.214849\n",
       "mean concavity             0.143660\n",
       "worst concave points      -0.019716\n",
       "mean concave points       -0.083016\n",
       "worst texture             -0.108565\n",
       "mean texture              -0.142564\n",
       "perimeter error           -0.213602\n",
       "radius error              -0.252033\n",
       "area error                -0.363638\n",
       "worst perimeter           -0.477261\n",
       "mean perimeter            -0.513800\n",
       "worst area                -0.523759\n",
       "worst radius              -0.524987\n",
       "mean area                 -0.551755\n",
       "mean radius               -0.558394\n",
       "dtype: float64"
      ]
     },
     "execution_count": 113,
     "metadata": {},
     "output_type": "execute_result"
    }
   ],
   "source": [
    "str_loading_2.iloc[:]"
   ]
  },
  {
   "cell_type": "markdown",
   "metadata": {},
   "source": [
    "## PC2 - Image rusults"
   ]
  },
  {
   "cell_type": "code",
   "execution_count": null,
   "metadata": {},
   "outputs": [],
   "source": []
  }
 ],
 "metadata": {
  "kernelspec": {
   "display_name": "Python 3",
   "language": "python",
   "name": "python3"
  },
  "language_info": {
   "codemirror_mode": {
    "name": "ipython",
    "version": 3
   },
   "file_extension": ".py",
   "mimetype": "text/x-python",
   "name": "python",
   "nbconvert_exporter": "python",
   "pygments_lexer": "ipython3",
   "version": "3.7.6"
  }
 },
 "nbformat": 4,
 "nbformat_minor": 4
}
