{
 "cells": [
  {
   "cell_type": "code",
   "execution_count": 91,
   "metadata": {},
   "outputs": [],
   "source": [
    "#webscraping libraries\n",
    "import requests as rq\n",
    "from bs4 import BeautifulSoup as bs\n",
    "\n",
    "# dataframe libraries\n",
    "import pandas as pd \n",
    "import numpy as np\n",
    "\n",
    "url = 'https://newyork.craigslist.org/d/apartments-housing-for-rent/search/apa'\n",
    "#url = 'https://newyork.craigslist.org/d/apartments-housing-for-rent/search/apa?s=120'"
   ]
  },
  {
   "cell_type": "code",
   "execution_count": 79,
   "metadata": {},
   "outputs": [],
   "source": [
    "# create soup object\n",
    "page = rq.get(url)\n",
    "soup = bs(page.content, 'html.parser')"
   ]
  },
  {
   "cell_type": "code",
   "execution_count": 57,
   "metadata": {},
   "outputs": [],
   "source": [
    "# after inspecting the page, the urls exist with 'h3'\n",
    "h3s = soup.find_all('h3', class_ = 'result-heading',\n",
    "                   # attrs=('class': 'result-heading') \n",
    "                   )"
   ]
  },
  {
   "cell_type": "code",
   "execution_count": 58,
   "metadata": {},
   "outputs": [
    {
     "data": {
      "text/plain": [
       "[<h3 class=\"result-heading\">\n",
       " <a class=\"result-title hdrlnk\" data-id=\"7307969846\" href=\"https://newyork.craigslist.org/que/apa/d/sunnyside-serene-gardens-community/7307969846.html\" id=\"postid_7307969846\">Serene Gardens Community</a>\n",
       " </h3>,\n",
       " <h3 class=\"result-heading\">\n",
       " <a class=\"result-title hdrlnk\" data-id=\"7307968308\" href=\"https://newyork.craigslist.org/que/apa/d/ridgewood-one-bed-avail-in-ridgewood/7307968308.html\" id=\"postid_7307968308\">ONE BED AVAIL IN RIDGEWOOD!</a>\n",
       " </h3>]"
      ]
     },
     "execution_count": 58,
     "metadata": {},
     "output_type": "execute_result"
    }
   ],
   "source": [
    "h3s[:2]"
   ]
  },
  {
   "cell_type": "code",
   "execution_count": 59,
   "metadata": {},
   "outputs": [
    {
     "data": {
      "text/plain": [
       "120"
      ]
     },
     "execution_count": 59,
     "metadata": {},
     "output_type": "execute_result"
    }
   ],
   "source": [
    "len(h3s)"
   ]
  },
  {
   "cell_type": "code",
   "execution_count": 60,
   "metadata": {},
   "outputs": [
    {
     "data": {
      "text/plain": [
       "'https://newyork.craigslist.org/que/apa/d/sunnyside-serene-gardens-community/7307969846.html'"
      ]
     },
     "execution_count": 60,
     "metadata": {},
     "output_type": "execute_result"
    }
   ],
   "source": [
    "# links are in 'href' , with 'a' object\n",
    "h3s[0].find('a')['href']"
   ]
  },
  {
   "cell_type": "code",
   "execution_count": 61,
   "metadata": {},
   "outputs": [
    {
     "data": {
      "text/plain": [
       "['https://newyork.craigslist.org/que/apa/d/sunnyside-serene-gardens-community/7307969846.html',\n",
       " 'https://newyork.craigslist.org/que/apa/d/ridgewood-one-bed-avail-in-ridgewood/7307968308.html',\n",
       " 'https://newyork.craigslist.org/wch/apa/d/west-harrison-west-harrison-bed-bth/7307966474.html',\n",
       " 'https://newyork.craigslist.org/brk/apa/d/brooklyn-work-from-home-private-loft/7307965694.html',\n",
       " 'https://newyork.craigslist.org/brk/apa/d/brooklyn-big-bedroom-close-to-prospect/7307964746.html']"
      ]
     },
     "execution_count": 61,
     "metadata": {},
     "output_type": "execute_result"
    }
   ],
   "source": [
    "#find all links in each item in the list\n",
    "\n",
    "links = [post.find('a')['href'] for post in h3s]\n",
    "links[:5]"
   ]
  },
  {
   "cell_type": "code",
   "execution_count": 62,
   "metadata": {},
   "outputs": [
    {
     "data": {
      "text/plain": [
       "120"
      ]
     },
     "execution_count": 62,
     "metadata": {},
     "output_type": "execute_result"
    }
   ],
   "source": [
    "len(links)"
   ]
  },
  {
   "cell_type": "code",
   "execution_count": 63,
   "metadata": {},
   "outputs": [],
   "source": [
    "test_url = links[0]\n",
    "page = rq.get(test_url)\n",
    "soup = bs(page.content, 'html.parser')"
   ]
  },
  {
   "cell_type": "code",
   "execution_count": 64,
   "metadata": {},
   "outputs": [
    {
     "data": {
      "text/plain": [
       "'https://newyork.craigslist.org/que/apa/d/sunnyside-serene-gardens-community/7307969846.html'"
      ]
     },
     "execution_count": 64,
     "metadata": {},
     "output_type": "execute_result"
    }
   ],
   "source": [
    "test_url"
   ]
  },
  {
   "cell_type": "code",
   "execution_count": 65,
   "metadata": {},
   "outputs": [
    {
     "data": {
      "text/plain": [
       "1950"
      ]
     },
     "execution_count": 65,
     "metadata": {},
     "output_type": "execute_result"
    }
   ],
   "source": [
    "# getting to the price \n",
    "\n",
    "int(soup.find('span', attrs= {'class': 'price'}).contents[0].replace('$', '').replace(',', ''))"
   ]
  },
  {
   "cell_type": "code",
   "execution_count": 66,
   "metadata": {},
   "outputs": [
    {
     "data": {
      "text/plain": [
       "'sunnysidegardens,queens,newyork'"
      ]
     },
     "execution_count": 66,
     "metadata": {},
     "output_type": "execute_result"
    }
   ],
   "source": [
    "# getting location \n",
    "\n",
    "soup.find('small').contents[0].strip()\\\n",
    "    .replace('(','')\\\n",
    "    .replace(')','')\\\n",
    "    .replace(' ','')\\\n",
    "    .replace(' ','_')\\\n",
    "    .lower()"
   ]
  },
  {
   "cell_type": "code",
   "execution_count": 67,
   "metadata": {},
   "outputs": [
    {
     "data": {
      "text/plain": [
       "1"
      ]
     },
     "execution_count": 67,
     "metadata": {},
     "output_type": "execute_result"
    }
   ],
   "source": [
    "# bedrooms \n",
    "\n",
    "int(soup.find('span', attrs ={'class' : \"shared-line-bubble\"}).text.split('/')[0][:-3])"
   ]
  },
  {
   "cell_type": "code",
   "execution_count": 68,
   "metadata": {},
   "outputs": [
    {
     "data": {
      "text/plain": [
       "1"
      ]
     },
     "execution_count": 68,
     "metadata": {},
     "output_type": "execute_result"
    }
   ],
   "source": [
    "# bathrooms\n",
    "\n",
    "int(soup.find('span', attrs ={'class' : \"shared-line-bubble\"}).contents[2].contents[0][:-2])"
   ]
  },
  {
   "cell_type": "code",
   "execution_count": 69,
   "metadata": {},
   "outputs": [],
   "source": [
    "def info_grabber(url):\n",
    "    \n",
    "    \"\"\"\n",
    "    Scrape iformation about apt listed at corresponding URL \n",
    "    returns a dict with location, num_bedrooms, num_bath, url\n",
    "    \n",
    "    \"\"\"\n",
    "    info ={}\n",
    "    \n",
    "    # converting page to soup object\n",
    "    page = rq.get(url)\n",
    "    soup = bs(page.content, 'html.parser')\n",
    "    \n",
    "    # getting price\n",
    "    price = soup.find('span', attrs= {'class': 'price'})\n",
    "                      \n",
    "    if price is not None:\n",
    "        info['price'] = float(price.contents[0].replace('$', '').replace(',', ''))\n",
    "    else:    \n",
    "        print(f'Price Error: {url}')\n",
    "        # put NaN in its place\n",
    "        info['price'] = np.nan\n",
    "    \n",
    "    # getting location\n",
    "    try: \n",
    "        info['location'] = soup.find_all('small')[0].contents[0].strip()\\\n",
    "            .replace('(','')\\\n",
    "            .replace(')','')\\\n",
    "            .replace(' ','')\\\n",
    "            .replace(' ','_')\\\n",
    "            .lower()\n",
    "        \n",
    "    except IndexError :\n",
    "\n",
    "        print(f'Location Error: {url}')\n",
    "        # put NaN in its place\n",
    "        info['location'] = np.nan\n",
    "\n",
    "        \n",
    "    # getting bedrooms \n",
    "    try:\n",
    "        info['num_beds'] = int(soup.find('span', attrs ={'class' : \"shared-line-bubble\"}).contents[0].contents[0][:-2])\n",
    "    \n",
    "    except :\n",
    "        print(f'Bedrooms Error: {url}')\n",
    "        # put NaN in its place\n",
    "        info['num_beds'] = np.nan\n",
    "        # put NaN in its place\n",
    "        info['num_baths'] = np.nan\n",
    "        \n",
    "    # getting bathrooms\n",
    "    \n",
    "    bathrooms = soup.find('span', attrs ={'class' : \"shared-line-bubble\"})\n",
    "    if bathrooms is not None:\n",
    "        bath_value = bathrooms.contents[2].contents[0][:-2]\n",
    "        if len(bath_value) < 3:\n",
    "            info['num_bath'] = float(bathrooms.contents[2].contents[0][:-2])\n",
    "        else:\n",
    "            info['num_baths'] = 1\n",
    "    else :\n",
    "        print(f'Bathrooms Error: {url}')\n",
    "        # put NaN in its place\n",
    "        info['num_baths'] = np.nan\n",
    "    \n",
    "    info['url'] = url\n",
    "        \n",
    "    return info"
   ]
  },
  {
   "cell_type": "code",
   "execution_count": 102,
   "metadata": {},
   "outputs": [
    {
     "name": "stdout",
     "output_type": "stream",
     "text": [
      "Location Error: https://newyork.craigslist.org/wch/apa/d/yonkers-bedroom-in-yonkers-serious/7307887699.html\n",
      "Wall time: 23.2 s\n"
     ]
    }
   ],
   "source": [
    "%%time \n",
    "\n",
    "apts_info = [info_grabber(link) for link in links]"
   ]
  },
  {
   "cell_type": "code",
   "execution_count": 103,
   "metadata": {},
   "outputs": [
    {
     "data": {
      "text/plain": [
       "[{'price': 1950.0,\n",
       "  'location': 'sunnysidegardens,queens,newyork',\n",
       "  'num_beds': 1,\n",
       "  'num_bath': 1.0,\n",
       "  'url': 'https://newyork.craigslist.org/que/apa/d/sunnyside-serene-gardens-community/7307969846.html'},\n",
       " {'price': 1750.0,\n",
       "  'location': 'ridgewood',\n",
       "  'num_beds': 1,\n",
       "  'num_bath': 1.0,\n",
       "  'url': 'https://newyork.craigslist.org/que/apa/d/ridgewood-one-bed-avail-in-ridgewood/7307968308.html'}]"
      ]
     },
     "execution_count": 103,
     "metadata": {},
     "output_type": "execute_result"
    }
   ],
   "source": [
    "apts_info[:2]"
   ]
  },
  {
   "cell_type": "code",
   "execution_count": 18,
   "metadata": {},
   "outputs": [],
   "source": [
    "df = pd.DataFrame(apts_info)"
   ]
  },
  {
   "cell_type": "code",
   "execution_count": 20,
   "metadata": {},
   "outputs": [
    {
     "data": {
      "text/html": [
       "<div>\n",
       "<style scoped>\n",
       "    .dataframe tbody tr th:only-of-type {\n",
       "        vertical-align: middle;\n",
       "    }\n",
       "\n",
       "    .dataframe tbody tr th {\n",
       "        vertical-align: top;\n",
       "    }\n",
       "\n",
       "    .dataframe thead th {\n",
       "        text-align: right;\n",
       "    }\n",
       "</style>\n",
       "<table border=\"1\" class=\"dataframe\">\n",
       "  <thead>\n",
       "    <tr style=\"text-align: right;\">\n",
       "      <th></th>\n",
       "      <th>price</th>\n",
       "      <th>location</th>\n",
       "      <th>num_beds</th>\n",
       "      <th>num_bath</th>\n",
       "      <th>url</th>\n",
       "    </tr>\n",
       "  </thead>\n",
       "  <tbody>\n",
       "    <tr>\n",
       "      <th>0</th>\n",
       "      <td>1800.0</td>\n",
       "      <td>astoria</td>\n",
       "      <td>1</td>\n",
       "      <td>1.0</td>\n",
       "      <td>https://newyork.craigslist.org/brx/apa/d/astor...</td>\n",
       "    </tr>\n",
       "    <tr>\n",
       "      <th>1</th>\n",
       "      <td>2150.0</td>\n",
       "      <td>longwoodhistoricdistrictbronx</td>\n",
       "      <td>2</td>\n",
       "      <td>1.0</td>\n",
       "      <td>https://newyork.craigslist.org/brx/apa/d/bronx...</td>\n",
       "    </tr>\n",
       "    <tr>\n",
       "      <th>2</th>\n",
       "      <td>180.0</td>\n",
       "      <td>oldmillbasin</td>\n",
       "      <td>1</td>\n",
       "      <td>1.0</td>\n",
       "      <td>https://newyork.craigslist.org/brk/apa/d/brook...</td>\n",
       "    </tr>\n",
       "    <tr>\n",
       "      <th>3</th>\n",
       "      <td>800.0</td>\n",
       "      <td>2500johnsonavenue#bronx</td>\n",
       "      <td>1</td>\n",
       "      <td>1.0</td>\n",
       "      <td>https://newyork.craigslist.org/brx/apa/d/bronx...</td>\n",
       "    </tr>\n",
       "    <tr>\n",
       "      <th>4</th>\n",
       "      <td>2500.0</td>\n",
       "      <td>arrochar</td>\n",
       "      <td>2</td>\n",
       "      <td>2.5</td>\n",
       "      <td>https://newyork.craigslist.org/stn/apa/d/state...</td>\n",
       "    </tr>\n",
       "  </tbody>\n",
       "</table>\n",
       "</div>"
      ],
      "text/plain": [
       "    price                       location  num_beds  num_bath  \\\n",
       "0  1800.0                        astoria         1       1.0   \n",
       "1  2150.0  longwoodhistoricdistrictbronx         2       1.0   \n",
       "2   180.0                   oldmillbasin         1       1.0   \n",
       "3   800.0        2500johnsonavenue#bronx         1       1.0   \n",
       "4  2500.0                       arrochar         2       2.5   \n",
       "\n",
       "                                                 url  \n",
       "0  https://newyork.craigslist.org/brx/apa/d/astor...  \n",
       "1  https://newyork.craigslist.org/brx/apa/d/bronx...  \n",
       "2  https://newyork.craigslist.org/brk/apa/d/brook...  \n",
       "3  https://newyork.craigslist.org/brx/apa/d/bronx...  \n",
       "4  https://newyork.craigslist.org/stn/apa/d/state...  "
      ]
     },
     "execution_count": 20,
     "metadata": {},
     "output_type": "execute_result"
    }
   ],
   "source": [
    "df.head()"
   ]
  },
  {
   "cell_type": "code",
   "execution_count": 92,
   "metadata": {},
   "outputs": [],
   "source": [
    "def scrape_all(url):\n",
    "    \n",
    "    \"\"\"\n",
    "    scrape all availible pages with coressponding apt info\n",
    "    \"\"\"\n",
    "    \n",
    "    based_url =  'https://newyork.craigslist.org/d/apartments-housing-for-rent/search/apa'\n",
    "    \n",
    "    page = rq.get(url)\n",
    "    soup = bs(page.content, 'html.parser')\n",
    "    h3s = soup.find_all('h3', class_ = 'result-heading')\n",
    "    links = [post.find('a')['href'] for post in h3s]\n",
    "    \n",
    "    data =  [info_grabber(link) for link in links]\n",
    "    \n",
    "    # pager = soup.find('span', {'class': 'button next'})\n",
    "    # if pager:\n",
    "    \n",
    "    next_url = soup.find('a', {'class': 'button next'})['href']\n",
    "    if len(next_url) > 0:\n",
    "        next_page = based_url + next_url\n",
    "        print('Scraping: ', next_page)\n",
    "\n",
    "        data.extend(scrape_all(next_page))\n",
    "\n",
    "    return data"
   ]
  },
  {
   "cell_type": "code",
   "execution_count": 93,
   "metadata": {},
   "outputs": [
    {
     "name": "stdout",
     "output_type": "stream",
     "text": [
      "Location Error: https://newyork.craigslist.org/wch/apa/d/irvington-charming-bedroomcottage-in/7311118856.html\n",
      "Scraping:  https://newyork.craigslist.org/d/apartments-housing-for-rent/search/apa/d/apartments-housing-for-rent/search/apa?s=120\n",
      "Location Error: https://newyork.craigslist.org/wch/apa/d/bronx-nice-bedroom-apartements-available/7311010422.html\n",
      "Scraping:  https://newyork.craigslist.org/d/apartments-housing-for-rent/search/apa/d/apartments-housing-for-rent/search/apa?s=240\n",
      "Location Error: https://newyork.craigslist.org/mnh/apa/d/new-york-magnificent-3br-duplex-an/7310941320.html\n",
      "Scraping:  https://newyork.craigslist.org/d/apartments-housing-for-rent/search/apa/d/apartments-housing-for-rent/search/apa?s=360\n",
      "Bedrooms Error: https://newyork.craigslist.org/brk/apa/d/new-york-large-alcove-studio-no-fee/7310867144.html\n",
      "Bathrooms Error: https://newyork.craigslist.org/brk/apa/d/new-york-large-alcove-studio-no-fee/7310867144.html\n",
      "Price Error: https://newyork.craigslist.org/mnh/apa/d/new-york-spacious-br-co-op-apartment/7310865913.html\n",
      "Location Error: https://newyork.craigslist.org/wch/apa/d/yonkers-large-bedroom-in-yonkers-bad/7310826827.html\n",
      "Scraping:  https://newyork.craigslist.org/d/apartments-housing-for-rent/search/apa/d/apartments-housing-for-rent/search/apa?s=480\n",
      "Location Error: https://newyork.craigslist.org/brk/apa/d/brooklyn-bed-stuy-brownstone/7310708749.html\n",
      "Scraping:  https://newyork.craigslist.org/d/apartments-housing-for-rent/search/apa/d/apartments-housing-for-rent/search/apa?s=600\n",
      "Location Error: https://newyork.craigslist.org/brk/apa/d/brooklyn-charming-bed-bathkensington/7310586732.html\n",
      "Scraping:  https://newyork.craigslist.org/d/apartments-housing-for-rent/search/apa/d/apartments-housing-for-rent/search/apa?s=720\n",
      "Location Error: https://newyork.craigslist.org/que/apa/d/queens-village-two-bedroom-apartment/7310464379.html\n",
      "Scraping:  https://newyork.craigslist.org/d/apartments-housing-for-rent/search/apa/d/apartments-housing-for-rent/search/apa?s=840\n",
      "Location Error: https://newyork.craigslist.org/que/apa/d/queens-village-apartamento-nivel-bajo/7310460900.html\n",
      "Price Error: https://newyork.craigslist.org/fct/apa/d/stamford-utils-incd-downtown-stamford/7310430062.html\n",
      "Location Error: https://newyork.craigslist.org/fct/apa/d/stamford-utils-incd-downtown-stamford/7310430062.html\n",
      "Scraping:  https://newyork.craigslist.org/d/apartments-housing-for-rent/search/apa/d/apartments-housing-for-rent/search/apa?s=960\n",
      "Location Error: https://newyork.craigslist.org/que/apa/d/little-neck-bedroom-bath-house-for-rent/7310295712.html\n",
      "Scraping:  https://newyork.craigslist.org/d/apartments-housing-for-rent/search/apa/d/apartments-housing-for-rent/search/apa?s=1080\n",
      "Location Error: https://newyork.craigslist.org/que/apa/d/ridgewood-bedroom-apartment/7310179467.html\n",
      "Location Error: https://newyork.craigslist.org/que/apa/d/ridgewood-bedroom/7310179262.html\n",
      "Location Error: https://newyork.craigslist.org/que/apa/d/ridgewood-bedroom/7310179026.html\n",
      "Scraping:  https://newyork.craigslist.org/d/apartments-housing-for-rent/search/apa/d/apartments-housing-for-rent/search/apa?s=1200\n",
      "Location Error: https://newyork.craigslist.org/stn/apa/d/staten-island-beautiful-bedroom-house/7310116074.html\n",
      "Scraping:  https://newyork.craigslist.org/d/apartments-housing-for-rent/search/apa/d/apartments-housing-for-rent/search/apa?s=1320\n",
      "Location Error: https://newyork.craigslist.org/brk/apa/d/hackensack-reduced-security-deposit/7309972764.html\n",
      "Scraping:  https://newyork.craigslist.org/d/apartments-housing-for-rent/search/apa/d/apartments-housing-for-rent/search/apa?s=1440\n",
      "Location Error: https://newyork.craigslist.org/brk/apa/d/brooklyn-studio-in-amenities-building/7309876660.html\n",
      "Location Error: https://newyork.craigslist.org/brk/apa/d/brooklyn-big-old-loft-in-prime-bushwick/7309867142.html\n",
      "Location Error: https://newyork.craigslist.org/brk/apa/d/brooklyn-amazing-bed-bath/7309805637.html\n",
      "Scraping:  https://newyork.craigslist.org/d/apartments-housing-for-rent/search/apa/d/apartments-housing-for-rent/search/apa?s=1560\n",
      "Location Error: https://newyork.craigslist.org/wch/apa/d/yonkers-charming-one-bedroom-in-coop/7309773455.html\n",
      "Location Error: https://newyork.craigslist.org/brk/apa/d/brooklyn-renovated-br-studio-unit-in/7309676315.html\n",
      "Location Error: https://newyork.craigslist.org/lgi/apa/d/elmont-bedrooms-apt/7309656454.html\n",
      "Scraping:  https://newyork.craigslist.org/d/apartments-housing-for-rent/search/apa/d/apartments-housing-for-rent/search/apa?s=1680\n",
      "Location Error: https://newyork.craigslist.org/wch/apa/d/yonkers-yonkers-bedroom-4th-floor-no/7309626640.html\n",
      "Location Error: https://newyork.craigslist.org/brx/apa/d/yonkers-1750-beautiful-2bedroom-apt-in/7309618206.html\n",
      "Location Error: https://newyork.craigslist.org/brk/apa/d/brooklyn-insane-bedroom-65-bath-duplex/7309488078.html\n",
      "Scraping:  https://newyork.craigslist.org/d/apartments-housing-for-rent/search/apa/d/apartments-housing-for-rent/search/apa?s=1800\n",
      "Location Error: https://newyork.craigslist.org/wch/apa/d/yonkers-garfield-st-yonkers-ny-1st-floor/7309453715.html\n",
      "Location Error: https://newyork.craigslist.org/wch/apa/d/bronx-1br-new-rochelle-everett-st/7309452835.html\n",
      "Scraping:  https://newyork.craigslist.org/d/apartments-housing-for-rent/search/apa/d/apartments-housing-for-rent/search/apa?s=1920\n",
      "Location Error: https://newyork.craigslist.org/wch/apa/d/bronx-nice-bedroom-apartements-available/7309312211.html\n",
      "Scraping:  https://newyork.craigslist.org/d/apartments-housing-for-rent/search/apa/d/apartments-housing-for-rent/search/apa?s=2040\n",
      "Location Error: https://newyork.craigslist.org/que/apa/d/rego-park-three-bedroom-apartment-for/7309243177.html\n",
      "Scraping:  https://newyork.craigslist.org/d/apartments-housing-for-rent/search/apa/d/apartments-housing-for-rent/search/apa?s=2160\n",
      "Scraping:  https://newyork.craigslist.org/d/apartments-housing-for-rent/search/apa/d/apartments-housing-for-rent/search/apa?s=2280\n",
      "Location Error: https://newyork.craigslist.org/brx/apa/d/bronx-north-east-bronx/7308905948.html\n",
      "Scraping:  https://newyork.craigslist.org/d/apartments-housing-for-rent/search/apa/d/apartments-housing-for-rent/search/apa?s=2400\n",
      "Location Error: https://newyork.craigslist.org/wch/apa/d/hastings-on-hudson-bedroom-hastings/7308727816.html\n",
      "Location Error: https://newyork.craigslist.org/que/apa/d/astoria-small-one-person-sunny-studio/7308595553.html\n",
      "Location Error: https://newyork.craigslist.org/que/apa/d/ridgewood-large-studio-one-bedroom/7308566521.html\n",
      "Scraping:  https://newyork.craigslist.org/d/apartments-housing-for-rent/search/apa/d/apartments-housing-for-rent/search/apa?s=2520\n",
      "Location Error: https://newyork.craigslist.org/que/apa/d/ridgewood-bedroom/7308396739.html\n",
      "Location Error: https://newyork.craigslist.org/que/apa/d/ridgewood-bedroom/7308396187.html\n",
      "Location Error: https://newyork.craigslist.org/que/apa/d/ridgewood-bedroom/7308395626.html\n",
      "Scraping:  https://newyork.craigslist.org/d/apartments-housing-for-rent/search/apa/d/apartments-housing-for-rent/search/apa?s=2640\n",
      "Scraping:  https://newyork.craigslist.org/d/apartments-housing-for-rent/search/apa/d/apartments-housing-for-rent/search/apa?s=2760\n",
      "Price Error: https://newyork.craigslist.org/lgi/apa/d/west-dover-vermont-house-mt-snow-for/7308050378.html\n",
      "Scraping:  https://newyork.craigslist.org/d/apartments-housing-for-rent/search/apa/d/apartments-housing-for-rent/search/apa?s=2880\n",
      "Location Error: https://newyork.craigslist.org/wch/apa/d/yonkers-bedroom-in-yonkers-serious/7307887699.html\n"
     ]
    }
   ],
   "source": [
    "all_data = scrape_all(url)"
   ]
  },
  {
   "cell_type": "code",
   "execution_count": 107,
   "metadata": {},
   "outputs": [
    {
     "data": {
      "text/plain": [
       "[{'price': 1380.0,\n",
       "  'location': 'elmhurst',\n",
       "  'num_beds': 1,\n",
       "  'num_bath': 1.0,\n",
       "  'url': 'https://newyork.craigslist.org/que/apa/d/elmhurst-studio-with-big-backyard/7311219299.html'},\n",
       " {'price': 2100.0,\n",
       "  'location': 'astoriaqueens',\n",
       "  'num_beds': 2,\n",
       "  'num_bath': 1.0,\n",
       "  'url': 'https://newyork.craigslist.org/que/apa/d/astoria-2bedroom-1bath-apartment-close/7311217044.html'}]"
      ]
     },
     "execution_count": 107,
     "metadata": {},
     "output_type": "execute_result"
    }
   ],
   "source": [
    "all_data[:2]"
   ]
  },
  {
   "cell_type": "code",
   "execution_count": 108,
   "metadata": {},
   "outputs": [],
   "source": [
    "df_final = pd.DataFrame(all_data)"
   ]
  },
  {
   "cell_type": "code",
   "execution_count": 114,
   "metadata": {},
   "outputs": [],
   "source": [
    "df_final = df_final.drop(columns=['num_baths'])"
   ]
  },
  {
   "cell_type": "code",
   "execution_count": 115,
   "metadata": {},
   "outputs": [
    {
     "data": {
      "text/html": [
       "<div>\n",
       "<style scoped>\n",
       "    .dataframe tbody tr th:only-of-type {\n",
       "        vertical-align: middle;\n",
       "    }\n",
       "\n",
       "    .dataframe tbody tr th {\n",
       "        vertical-align: top;\n",
       "    }\n",
       "\n",
       "    .dataframe thead th {\n",
       "        text-align: right;\n",
       "    }\n",
       "</style>\n",
       "<table border=\"1\" class=\"dataframe\">\n",
       "  <thead>\n",
       "    <tr style=\"text-align: right;\">\n",
       "      <th></th>\n",
       "      <th>price</th>\n",
       "      <th>location</th>\n",
       "      <th>num_beds</th>\n",
       "      <th>num_bath</th>\n",
       "      <th>url</th>\n",
       "    </tr>\n",
       "  </thead>\n",
       "  <tbody>\n",
       "    <tr>\n",
       "      <th>0</th>\n",
       "      <td>1380.0</td>\n",
       "      <td>elmhurst</td>\n",
       "      <td>1.0</td>\n",
       "      <td>1.0</td>\n",
       "      <td>https://newyork.craigslist.org/que/apa/d/elmhu...</td>\n",
       "    </tr>\n",
       "    <tr>\n",
       "      <th>1</th>\n",
       "      <td>2100.0</td>\n",
       "      <td>astoriaqueens</td>\n",
       "      <td>2.0</td>\n",
       "      <td>1.0</td>\n",
       "      <td>https://newyork.craigslist.org/que/apa/d/astor...</td>\n",
       "    </tr>\n",
       "    <tr>\n",
       "      <th>2</th>\n",
       "      <td>2600.0</td>\n",
       "      <td>bushwick</td>\n",
       "      <td>3.0</td>\n",
       "      <td>1.0</td>\n",
       "      <td>https://newyork.craigslist.org/brk/apa/d/brook...</td>\n",
       "    </tr>\n",
       "    <tr>\n",
       "      <th>3</th>\n",
       "      <td>1500.0</td>\n",
       "      <td>queensvillagepppl</td>\n",
       "      <td>2.0</td>\n",
       "      <td>1.0</td>\n",
       "      <td>https://newyork.craigslist.org/que/apa/d/queen...</td>\n",
       "    </tr>\n",
       "    <tr>\n",
       "      <th>4</th>\n",
       "      <td>1800.0</td>\n",
       "      <td>astoria</td>\n",
       "      <td>1.0</td>\n",
       "      <td>1.0</td>\n",
       "      <td>https://newyork.craigslist.org/brx/apa/d/astor...</td>\n",
       "    </tr>\n",
       "  </tbody>\n",
       "</table>\n",
       "</div>"
      ],
      "text/plain": [
       "    price           location  num_beds  num_bath  \\\n",
       "0  1380.0           elmhurst       1.0       1.0   \n",
       "1  2100.0      astoriaqueens       2.0       1.0   \n",
       "2  2600.0           bushwick       3.0       1.0   \n",
       "3  1500.0  queensvillagepppl       2.0       1.0   \n",
       "4  1800.0            astoria       1.0       1.0   \n",
       "\n",
       "                                                 url  \n",
       "0  https://newyork.craigslist.org/que/apa/d/elmhu...  \n",
       "1  https://newyork.craigslist.org/que/apa/d/astor...  \n",
       "2  https://newyork.craigslist.org/brk/apa/d/brook...  \n",
       "3  https://newyork.craigslist.org/que/apa/d/queen...  \n",
       "4  https://newyork.craigslist.org/brx/apa/d/astor...  "
      ]
     },
     "execution_count": 115,
     "metadata": {},
     "output_type": "execute_result"
    }
   ],
   "source": [
    "df_final.head()"
   ]
  },
  {
   "cell_type": "code",
   "execution_count": 116,
   "metadata": {},
   "outputs": [],
   "source": [
    "df_final.to_csv('scrapped_data.csv', )"
   ]
  },
  {
   "cell_type": "code",
   "execution_count": 119,
   "metadata": {},
   "outputs": [
    {
     "name": "stdout",
     "output_type": "stream",
     "text": [
      "<class 'pandas.core.frame.DataFrame'>\n",
      "RangeIndex: 3000 entries, 0 to 2999\n",
      "Data columns (total 5 columns):\n",
      " #   Column    Non-Null Count  Dtype  \n",
      "---  ------    --------------  -----  \n",
      " 0   price     2997 non-null   float64\n",
      " 1   location  2964 non-null   object \n",
      " 2   num_beds  2999 non-null   float64\n",
      " 3   num_bath  2846 non-null   float64\n",
      " 4   url       3000 non-null   object \n",
      "dtypes: float64(3), object(2)\n",
      "memory usage: 117.3+ KB\n"
     ]
    }
   ],
   "source": [
    "df_final.info()"
   ]
  },
  {
   "cell_type": "code",
   "execution_count": null,
   "metadata": {},
   "outputs": [],
   "source": []
  }
 ],
 "metadata": {
  "kernelspec": {
   "display_name": "Python 3",
   "language": "python",
   "name": "python3"
  },
  "language_info": {
   "codemirror_mode": {
    "name": "ipython",
    "version": 3
   },
   "file_extension": ".py",
   "mimetype": "text/x-python",
   "name": "python",
   "nbconvert_exporter": "python",
   "pygments_lexer": "ipython3",
   "version": "3.8.3"
  }
 },
 "nbformat": 4,
 "nbformat_minor": 4
}
