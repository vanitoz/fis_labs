{
 "cells": [
  {
   "cell_type": "markdown",
   "metadata": {},
   "source": [
    "For this challenge you need to create a simple SELECT statement that will return all columns from the products table,\n",
    "and join to the companies table so that you can return the company name.\n",
    "\n",
    "products table schema\n",
    "\n",
    "id,\n",
    "\n",
    "name,\n",
    "\n",
    "isbn,\n",
    "\n",
    "company_id,\n",
    "\n",
    "price,\n",
    "\n",
    "companies table schema: \n",
    "\n",
    "id,\n",
    "\n",
    "name\n",
    "\n",
    "You should return all product fields as well as the company name as \"company_name\".\n",
    "\n",
    "link : https://www.codewars.com/kata/5802e32dd8c944e562000020/train/sql"
   ]
  },
  {
   "cell_type": "code",
   "execution_count": 1,
   "metadata": {},
   "outputs": [
    {
     "name": "stdout",
     "output_type": "stream",
     "text": [
      "---------------------------\n"
     ]
    }
   ],
   "source": [
    "print ('---------------------------')"
   ]
  },
  {
   "cell_type": "markdown",
   "metadata": {},
   "source": [
    "SELECT p.*, c.name AS company_name\n",
    "\n",
    "FROM products p LEFT JOIN companies c\n",
    "\n",
    "ON p.company_id == c.id"
   ]
  },
  {
   "cell_type": "code",
   "execution_count": 1,
   "metadata": {},
   "outputs": [
    {
     "name": "stdout",
     "output_type": "stream",
     "text": [
      "---------------------------\n"
     ]
    }
   ],
   "source": [
    "print ('---------------------------')"
   ]
  },
  {
   "cell_type": "code",
   "execution_count": null,
   "metadata": {},
   "outputs": [],
   "source": []
  }
 ],
 "metadata": {
  "kernelspec": {
   "display_name": "Python 3",
   "language": "python",
   "name": "python3"
  },
  "language_info": {
   "codemirror_mode": {
    "name": "ipython",
    "version": 3
   },
   "file_extension": ".py",
   "mimetype": "text/x-python",
   "name": "python",
   "nbconvert_exporter": "python",
   "pygments_lexer": "ipython3",
   "version": "3.8.3"
  }
 },
 "nbformat": 4,
 "nbformat_minor": 4
}
