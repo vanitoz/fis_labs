{
 "cells": [
  {
   "cell_type": "code",
   "execution_count": 96,
   "metadata": {},
   "outputs": [],
   "source": [
    "#webscraping libraries\n",
    "import requests as rq\n",
    "from bs4 import BeautifulSoup as bs\n",
    "\n",
    "# dataframe libraries\n",
    "import pandas as pd \n",
    "import numpy as np\n",
    "\n",
    "url = 'https://newyork.craigslist.org/d/apartments-housing-for-rent/search/apa'\n",
    "#url = 'https://newyork.craigslist.org/d/apartments-housing-for-rent/search/apa?s=120'"
   ]
  },
  {
   "cell_type": "code",
   "execution_count": 97,
   "metadata": {},
   "outputs": [],
   "source": [
    "# create soup object\n",
    "page = rq.get(url)\n",
    "soup = bs(page.content, 'html.parser')"
   ]
  },
  {
   "cell_type": "code",
   "execution_count": 98,
   "metadata": {},
   "outputs": [],
   "source": [
    "# after inspecting the page, the urls exist with 'h3'\n",
    "h3s = soup.find_all('h3', class_ = 'result-heading',\n",
    "                   # attrs=('class': 'result-heading') \n",
    "                   )"
   ]
  },
  {
   "cell_type": "code",
   "execution_count": 99,
   "metadata": {},
   "outputs": [
    {
     "data": {
      "text/plain": [
       "[<h3 class=\"result-heading\">\n",
       " <a class=\"result-title hdrlnk\" data-id=\"7311053947\" href=\"https://newyork.craigslist.org/brk/apa/d/brooklyn-deal-alert-williamsburg-bed/7311053947.html\" id=\"postid_7311053947\">DEAL ALERT! WILLIAMSBURG 1 BED PLUS OFFICE!!!!</a>\n",
       " </h3>,\n",
       " <h3 class=\"result-heading\">\n",
       " <a class=\"result-title hdrlnk\" data-id=\"7311053701\" href=\"https://newyork.craigslist.org/wch/apa/d/white-plains-beautiful-1br-view-of-the/7311053701.html\" id=\"postid_7311053701\">Beautiful 1BR w/ View of The Park!</a>\n",
       " </h3>]"
      ]
     },
     "execution_count": 99,
     "metadata": {},
     "output_type": "execute_result"
    }
   ],
   "source": [
    "h3s[:2]"
   ]
  },
  {
   "cell_type": "code",
   "execution_count": 100,
   "metadata": {},
   "outputs": [
    {
     "data": {
      "text/plain": [
       "120"
      ]
     },
     "execution_count": 100,
     "metadata": {},
     "output_type": "execute_result"
    }
   ],
   "source": [
    "len(h3s)"
   ]
  },
  {
   "cell_type": "code",
   "execution_count": 101,
   "metadata": {},
   "outputs": [
    {
     "data": {
      "text/plain": [
       "'https://newyork.craigslist.org/brk/apa/d/brooklyn-deal-alert-williamsburg-bed/7311053947.html'"
      ]
     },
     "execution_count": 101,
     "metadata": {},
     "output_type": "execute_result"
    }
   ],
   "source": [
    "# links are in 'href' , with 'a' object\n",
    "h3s[0].find('a')['href']"
   ]
  },
  {
   "cell_type": "code",
   "execution_count": 102,
   "metadata": {},
   "outputs": [
    {
     "data": {
      "text/plain": [
       "['https://newyork.craigslist.org/brk/apa/d/brooklyn-deal-alert-williamsburg-bed/7311053947.html',\n",
       " 'https://newyork.craigslist.org/wch/apa/d/white-plains-beautiful-1br-view-of-the/7311053701.html',\n",
       " 'https://newyork.craigslist.org/brk/apa/d/brooklyn-immediate-move-infloor-to/7311053591.html',\n",
       " 'https://newyork.craigslist.org/que/apa/d/woodside-bedroom-apartment-in-woodside/7311053366.html',\n",
       " 'https://newyork.craigslist.org/brk/apa/d/brooklyn-flex-three-bedroom-railroad/7311052324.html']"
      ]
     },
     "execution_count": 102,
     "metadata": {},
     "output_type": "execute_result"
    }
   ],
   "source": [
    "#find all links in each item in the list\n",
    "\n",
    "links = [post.find('a')['href'] for post in h3s]\n",
    "links[:5]"
   ]
  },
  {
   "cell_type": "code",
   "execution_count": 103,
   "metadata": {},
   "outputs": [
    {
     "data": {
      "text/plain": [
       "120"
      ]
     },
     "execution_count": 103,
     "metadata": {},
     "output_type": "execute_result"
    }
   ],
   "source": [
    "len(links)"
   ]
  },
  {
   "cell_type": "code",
   "execution_count": 104,
   "metadata": {},
   "outputs": [],
   "source": [
    "test_url = links[0]\n",
    "page = rq.get(test_url)\n",
    "soup = bs(page.content, 'html.parser')"
   ]
  },
  {
   "cell_type": "code",
   "execution_count": 105,
   "metadata": {},
   "outputs": [
    {
     "data": {
      "text/plain": [
       "'https://newyork.craigslist.org/brk/apa/d/brooklyn-deal-alert-williamsburg-bed/7311053947.html'"
      ]
     },
     "execution_count": 105,
     "metadata": {},
     "output_type": "execute_result"
    }
   ],
   "source": [
    "test_url"
   ]
  },
  {
   "cell_type": "code",
   "execution_count": 106,
   "metadata": {},
   "outputs": [
    {
     "data": {
      "text/plain": [
       "2100"
      ]
     },
     "execution_count": 106,
     "metadata": {},
     "output_type": "execute_result"
    }
   ],
   "source": [
    "# getting to the price \n",
    "\n",
    "int(soup.find('span', attrs= {'class': 'price'}).contents[0].replace('$', '').replace(',', ''))"
   ]
  },
  {
   "cell_type": "code",
   "execution_count": 107,
   "metadata": {},
   "outputs": [
    {
     "data": {
      "text/plain": [
       "'williamsburg'"
      ]
     },
     "execution_count": 107,
     "metadata": {},
     "output_type": "execute_result"
    }
   ],
   "source": [
    "# getting location \n",
    "\n",
    "soup.find('small').contents[0].strip()\\\n",
    "    .replace('(','')\\\n",
    "    .replace(')','')\\\n",
    "    .replace(' ','')\\\n",
    "    .replace(' ','_')\\\n",
    "    .lower()"
   ]
  },
  {
   "cell_type": "code",
   "execution_count": 108,
   "metadata": {},
   "outputs": [
    {
     "data": {
      "text/plain": [
       "2"
      ]
     },
     "execution_count": 108,
     "metadata": {},
     "output_type": "execute_result"
    }
   ],
   "source": [
    "# bedrooms \n",
    "\n",
    "int(soup.find('span', attrs ={'class' : \"shared-line-bubble\"}).text.split('/')[0][:-3])"
   ]
  },
  {
   "cell_type": "code",
   "execution_count": 109,
   "metadata": {},
   "outputs": [
    {
     "data": {
      "text/plain": [
       "1"
      ]
     },
     "execution_count": 109,
     "metadata": {},
     "output_type": "execute_result"
    }
   ],
   "source": [
    "# bathrooms\n",
    "\n",
    "int(soup.find('span', attrs ={'class' : \"shared-line-bubble\"}).contents[2].contents[0][:-2])"
   ]
  },
  {
   "cell_type": "code",
   "execution_count": 143,
   "metadata": {},
   "outputs": [],
   "source": [
    "def info_grabber(url):\n",
    "    \n",
    "    info ={}\n",
    "    \n",
    "    # converting page to soup object\n",
    "    page = rq.get(url)\n",
    "    soup = bs(page.content, 'html.parser')\n",
    "    \n",
    "    # getting price\n",
    "    price = soup.find('span', attrs= {'class': 'price'})\n",
    "                      \n",
    "    if price is not None:\n",
    "        info['price'] = float(price.contents[0].replace('$', '').replace(',', ''))\n",
    "    else:    \n",
    "        print(f'Price Error: {url}')\n",
    "        # put NaN in its place\n",
    "        info['price'] = np.nan\n",
    "    \n",
    "    # getting location\n",
    "    try: \n",
    "        info['location'] = soup.find_all('small')[0].contents[0].strip()\\\n",
    "            .replace('(','')\\\n",
    "            .replace(')','')\\\n",
    "            .replace(' ','')\\\n",
    "            .replace(' ','_')\\\n",
    "            .lower()\n",
    "        \n",
    "    except IndexError :\n",
    "\n",
    "        print(f'Location Error: {url}')\n",
    "        # put NaN in its place\n",
    "        info['location'] = np.nan\n",
    "\n",
    "        \n",
    "    # getting bedrooms \n",
    "    try:\n",
    "        info['num_beds'] = int(soup.find('span', attrs ={'class' : \"shared-line-bubble\"}).contents[0].contents[0][:-2])\n",
    "    \n",
    "    except :\n",
    "        print(f'Bedrooms Error: {url}')\n",
    "        # put NaN in its place\n",
    "        info['num_beds'] = np.nan\n",
    "        \n",
    "        \n",
    "    # getting bathrooms\n",
    "    try : \n",
    "        info['num_bath'] = float(soup.find('span', attrs ={'class' : \"shared-line-bubble\"}).contents[2].contents[0][:-2])\n",
    "    \n",
    "    except ValueError :\n",
    "        print(f'Bathroom Error: {url}')\n",
    "        # put NaN in its place\n",
    "        info['num_baths'] = np.nan\n",
    "    \n",
    "    info['url'] = url\n",
    "        \n",
    "    return info"
   ]
  },
  {
   "cell_type": "code",
   "execution_count": 144,
   "metadata": {},
   "outputs": [
    {
     "name": "stdout",
     "output_type": "stream",
     "text": [
      "Price Error: https://newyork.craigslist.org/brx/apa/d/bronx-bedroom-bath-condo-with/7311042079.html\n",
      "Location Error: https://newyork.craigslist.org/brx/apa/d/bronx-bedroom-bath-condo-with/7311042079.html\n",
      "Bedrooms Error: https://newyork.craigslist.org/brx/apa/d/bronx-bedroom-bath-condo-with/7311042079.html\n"
     ]
    },
    {
     "ename": "AttributeError",
     "evalue": "'NoneType' object has no attribute 'contents'",
     "output_type": "error",
     "traceback": [
      "\u001b[1;31m---------------------------------------------------------------------------\u001b[0m",
      "\u001b[1;31mAttributeError\u001b[0m                            Traceback (most recent call last)",
      "\u001b[1;32m<timed exec>\u001b[0m in \u001b[0;36m<module>\u001b[1;34m\u001b[0m\n",
      "\u001b[1;32m<timed exec>\u001b[0m in \u001b[0;36m<listcomp>\u001b[1;34m(.0)\u001b[0m\n",
      "\u001b[1;32m<ipython-input-143-dd6f18776b4d>\u001b[0m in \u001b[0;36minfo_grabber\u001b[1;34m(url)\u001b[0m\n\u001b[0;32m     45\u001b[0m     \u001b[1;31m# getting bathrooms\u001b[0m\u001b[1;33m\u001b[0m\u001b[1;33m\u001b[0m\u001b[1;33m\u001b[0m\u001b[0m\n\u001b[0;32m     46\u001b[0m     \u001b[1;32mtry\u001b[0m \u001b[1;33m:\u001b[0m\u001b[1;33m\u001b[0m\u001b[1;33m\u001b[0m\u001b[0m\n\u001b[1;32m---> 47\u001b[1;33m         \u001b[0minfo\u001b[0m\u001b[1;33m[\u001b[0m\u001b[1;34m'num_bath'\u001b[0m\u001b[1;33m]\u001b[0m \u001b[1;33m=\u001b[0m \u001b[0mfloat\u001b[0m\u001b[1;33m(\u001b[0m\u001b[0msoup\u001b[0m\u001b[1;33m.\u001b[0m\u001b[0mfind\u001b[0m\u001b[1;33m(\u001b[0m\u001b[1;34m'span'\u001b[0m\u001b[1;33m,\u001b[0m \u001b[0mattrs\u001b[0m \u001b[1;33m=\u001b[0m\u001b[1;33m{\u001b[0m\u001b[1;34m'class'\u001b[0m \u001b[1;33m:\u001b[0m \u001b[1;34m\"shared-line-bubble\"\u001b[0m\u001b[1;33m}\u001b[0m\u001b[1;33m)\u001b[0m\u001b[1;33m.\u001b[0m\u001b[0mcontents\u001b[0m\u001b[1;33m[\u001b[0m\u001b[1;36m2\u001b[0m\u001b[1;33m]\u001b[0m\u001b[1;33m.\u001b[0m\u001b[0mcontents\u001b[0m\u001b[1;33m[\u001b[0m\u001b[1;36m0\u001b[0m\u001b[1;33m]\u001b[0m\u001b[1;33m[\u001b[0m\u001b[1;33m:\u001b[0m\u001b[1;33m-\u001b[0m\u001b[1;36m2\u001b[0m\u001b[1;33m]\u001b[0m\u001b[1;33m)\u001b[0m\u001b[1;33m\u001b[0m\u001b[1;33m\u001b[0m\u001b[0m\n\u001b[0m\u001b[0;32m     48\u001b[0m \u001b[1;33m\u001b[0m\u001b[0m\n\u001b[0;32m     49\u001b[0m     \u001b[1;32mexcept\u001b[0m \u001b[0mValueError\u001b[0m \u001b[1;33m:\u001b[0m\u001b[1;33m\u001b[0m\u001b[1;33m\u001b[0m\u001b[0m\n",
      "\u001b[1;31mAttributeError\u001b[0m: 'NoneType' object has no attribute 'contents'"
     ]
    }
   ],
   "source": [
    "%%time \n",
    "\n",
    "apts_info = [info_grabber(link) for link in links]"
   ]
  },
  {
   "cell_type": "code",
   "execution_count": 63,
   "metadata": {},
   "outputs": [
    {
     "data": {
      "text/plain": [
       "[{'price': 2653.0,\n",
       "  'location': 'financialdistrict',\n",
       "  'num_beds': 2,\n",
       "  'num_bath': 1.0,\n",
       "  'url': 'https://newyork.craigslist.org/mnh/apa/d/new-york-lux-loft-spanning-838-sf-mos/7311044350.html'},\n",
       " {'price': 2575.0,\n",
       "  'location': 'astoria',\n",
       "  'num_beds': 1,\n",
       "  'num_bath': 1.0,\n",
       "  'url': 'https://newyork.craigslist.org/que/apa/d/astoria-free-month-no-broker-fee-60-sec/7311042623.html'}]"
      ]
     },
     "execution_count": 63,
     "metadata": {},
     "output_type": "execute_result"
    }
   ],
   "source": [
    "apts_info[:2]"
   ]
  },
  {
   "cell_type": "code",
   "execution_count": 65,
   "metadata": {},
   "outputs": [],
   "source": [
    "df = pd.DataFrame(apts_info)"
   ]
  },
  {
   "cell_type": "code",
   "execution_count": 66,
   "metadata": {},
   "outputs": [
    {
     "data": {
      "text/plain": [
       "price       0\n",
       "location    1\n",
       "num_beds    0\n",
       "num_bath    0\n",
       "url         0\n",
       "dtype: int64"
      ]
     },
     "execution_count": 66,
     "metadata": {},
     "output_type": "execute_result"
    }
   ],
   "source": [
    "df.isna().sum()"
   ]
  },
  {
   "cell_type": "code",
   "execution_count": 67,
   "metadata": {},
   "outputs": [
    {
     "data": {
      "text/html": [
       "<div>\n",
       "<style scoped>\n",
       "    .dataframe tbody tr th:only-of-type {\n",
       "        vertical-align: middle;\n",
       "    }\n",
       "\n",
       "    .dataframe tbody tr th {\n",
       "        vertical-align: top;\n",
       "    }\n",
       "\n",
       "    .dataframe thead th {\n",
       "        text-align: right;\n",
       "    }\n",
       "</style>\n",
       "<table border=\"1\" class=\"dataframe\">\n",
       "  <thead>\n",
       "    <tr style=\"text-align: right;\">\n",
       "      <th></th>\n",
       "      <th>price</th>\n",
       "      <th>location</th>\n",
       "      <th>num_beds</th>\n",
       "      <th>num_bath</th>\n",
       "      <th>url</th>\n",
       "    </tr>\n",
       "  </thead>\n",
       "  <tbody>\n",
       "    <tr>\n",
       "      <th>0</th>\n",
       "      <td>2653.0</td>\n",
       "      <td>financialdistrict</td>\n",
       "      <td>2</td>\n",
       "      <td>1.0</td>\n",
       "      <td>https://newyork.craigslist.org/mnh/apa/d/new-y...</td>\n",
       "    </tr>\n",
       "    <tr>\n",
       "      <th>1</th>\n",
       "      <td>2575.0</td>\n",
       "      <td>astoria</td>\n",
       "      <td>1</td>\n",
       "      <td>1.0</td>\n",
       "      <td>https://newyork.craigslist.org/que/apa/d/astor...</td>\n",
       "    </tr>\n",
       "    <tr>\n",
       "      <th>2</th>\n",
       "      <td>2000.0</td>\n",
       "      <td>queens</td>\n",
       "      <td>2</td>\n",
       "      <td>1.0</td>\n",
       "      <td>https://newyork.craigslist.org/que/apa/d/south...</td>\n",
       "    </tr>\n",
       "    <tr>\n",
       "      <th>3</th>\n",
       "      <td>750.0</td>\n",
       "      <td>bronx</td>\n",
       "      <td>2</td>\n",
       "      <td>1.0</td>\n",
       "      <td>https://newyork.craigslist.org/brx/apa/d/bronx...</td>\n",
       "    </tr>\n",
       "    <tr>\n",
       "      <th>4</th>\n",
       "      <td>500.0</td>\n",
       "      <td>queens</td>\n",
       "      <td>1</td>\n",
       "      <td>1.0</td>\n",
       "      <td>https://newyork.craigslist.org/que/apa/d/astor...</td>\n",
       "    </tr>\n",
       "  </tbody>\n",
       "</table>\n",
       "</div>"
      ],
      "text/plain": [
       "    price           location  num_beds  num_bath  \\\n",
       "0  2653.0  financialdistrict         2       1.0   \n",
       "1  2575.0            astoria         1       1.0   \n",
       "2  2000.0             queens         2       1.0   \n",
       "3   750.0              bronx         2       1.0   \n",
       "4   500.0             queens         1       1.0   \n",
       "\n",
       "                                                 url  \n",
       "0  https://newyork.craigslist.org/mnh/apa/d/new-y...  \n",
       "1  https://newyork.craigslist.org/que/apa/d/astor...  \n",
       "2  https://newyork.craigslist.org/que/apa/d/south...  \n",
       "3  https://newyork.craigslist.org/brx/apa/d/bronx...  \n",
       "4  https://newyork.craigslist.org/que/apa/d/astor...  "
      ]
     },
     "execution_count": 67,
     "metadata": {},
     "output_type": "execute_result"
    }
   ],
   "source": [
    "df.head()"
   ]
  },
  {
   "cell_type": "code",
   "execution_count": 94,
   "metadata": {},
   "outputs": [],
   "source": [
    "def scrape_all(url):\n",
    "    \n",
    "    based_url =  'https://newyork.craigslist.org/d/apartments-housing-for-rent/search/apa'\n",
    "    \n",
    "    page = rq.get(url)\n",
    "    soup = bs(page.content, 'html.parser')\n",
    "    h3s = soup.find_all('h3', class_ = 'result-heading')\n",
    "    links = [post.find('a')['href'] for post in h3s]\n",
    "    \n",
    "    data =  [info_grabber(link) for link in links]\n",
    "    \n",
    "    \n",
    "    return data"
   ]
  },
  {
   "cell_type": "code",
   "execution_count": 95,
   "metadata": {},
   "outputs": [
    {
     "ename": "AttributeError",
     "evalue": "'NoneType' object has no attribute 'contents'",
     "output_type": "error",
     "traceback": [
      "\u001b[1;31m---------------------------------------------------------------------------\u001b[0m",
      "\u001b[1;31mAttributeError\u001b[0m                            Traceback (most recent call last)",
      "\u001b[1;32m<ipython-input-95-c1a759352871>\u001b[0m in \u001b[0;36m<module>\u001b[1;34m\u001b[0m\n\u001b[1;32m----> 1\u001b[1;33m \u001b[0mscrape_all\u001b[0m\u001b[1;33m(\u001b[0m\u001b[0murl\u001b[0m\u001b[1;33m)\u001b[0m\u001b[1;33m\u001b[0m\u001b[1;33m\u001b[0m\u001b[0m\n\u001b[0m",
      "\u001b[1;32m<ipython-input-94-7ca7dfee3074>\u001b[0m in \u001b[0;36mscrape_all\u001b[1;34m(url)\u001b[0m\n\u001b[0;32m      8\u001b[0m     \u001b[0mlinks\u001b[0m \u001b[1;33m=\u001b[0m \u001b[1;33m[\u001b[0m\u001b[0mpost\u001b[0m\u001b[1;33m.\u001b[0m\u001b[0mfind\u001b[0m\u001b[1;33m(\u001b[0m\u001b[1;34m'a'\u001b[0m\u001b[1;33m)\u001b[0m\u001b[1;33m[\u001b[0m\u001b[1;34m'href'\u001b[0m\u001b[1;33m]\u001b[0m \u001b[1;32mfor\u001b[0m \u001b[0mpost\u001b[0m \u001b[1;32min\u001b[0m \u001b[0mh3s\u001b[0m\u001b[1;33m]\u001b[0m\u001b[1;33m\u001b[0m\u001b[1;33m\u001b[0m\u001b[0m\n\u001b[0;32m      9\u001b[0m \u001b[1;33m\u001b[0m\u001b[0m\n\u001b[1;32m---> 10\u001b[1;33m     \u001b[0mdata\u001b[0m \u001b[1;33m=\u001b[0m  \u001b[1;33m[\u001b[0m\u001b[0minfo_grabber\u001b[0m\u001b[1;33m(\u001b[0m\u001b[0mlink\u001b[0m\u001b[1;33m)\u001b[0m \u001b[1;32mfor\u001b[0m \u001b[0mlink\u001b[0m \u001b[1;32min\u001b[0m \u001b[0mlinks\u001b[0m\u001b[1;33m]\u001b[0m\u001b[1;33m\u001b[0m\u001b[1;33m\u001b[0m\u001b[0m\n\u001b[0m\u001b[0;32m     11\u001b[0m \u001b[1;33m\u001b[0m\u001b[0m\n\u001b[0;32m     12\u001b[0m \u001b[1;33m\u001b[0m\u001b[0m\n",
      "\u001b[1;32m<ipython-input-94-7ca7dfee3074>\u001b[0m in \u001b[0;36m<listcomp>\u001b[1;34m(.0)\u001b[0m\n\u001b[0;32m      8\u001b[0m     \u001b[0mlinks\u001b[0m \u001b[1;33m=\u001b[0m \u001b[1;33m[\u001b[0m\u001b[0mpost\u001b[0m\u001b[1;33m.\u001b[0m\u001b[0mfind\u001b[0m\u001b[1;33m(\u001b[0m\u001b[1;34m'a'\u001b[0m\u001b[1;33m)\u001b[0m\u001b[1;33m[\u001b[0m\u001b[1;34m'href'\u001b[0m\u001b[1;33m]\u001b[0m \u001b[1;32mfor\u001b[0m \u001b[0mpost\u001b[0m \u001b[1;32min\u001b[0m \u001b[0mh3s\u001b[0m\u001b[1;33m]\u001b[0m\u001b[1;33m\u001b[0m\u001b[1;33m\u001b[0m\u001b[0m\n\u001b[0;32m      9\u001b[0m \u001b[1;33m\u001b[0m\u001b[0m\n\u001b[1;32m---> 10\u001b[1;33m     \u001b[0mdata\u001b[0m \u001b[1;33m=\u001b[0m  \u001b[1;33m[\u001b[0m\u001b[0minfo_grabber\u001b[0m\u001b[1;33m(\u001b[0m\u001b[0mlink\u001b[0m\u001b[1;33m)\u001b[0m \u001b[1;32mfor\u001b[0m \u001b[0mlink\u001b[0m \u001b[1;32min\u001b[0m \u001b[0mlinks\u001b[0m\u001b[1;33m]\u001b[0m\u001b[1;33m\u001b[0m\u001b[1;33m\u001b[0m\u001b[0m\n\u001b[0m\u001b[0;32m     11\u001b[0m \u001b[1;33m\u001b[0m\u001b[0m\n\u001b[0;32m     12\u001b[0m \u001b[1;33m\u001b[0m\u001b[0m\n",
      "\u001b[1;32m<ipython-input-59-b761e7038bb0>\u001b[0m in \u001b[0;36minfo_grabber\u001b[1;34m(url)\u001b[0m\n\u001b[0;32m      9\u001b[0m     \u001b[1;31m# getting price\u001b[0m\u001b[1;33m\u001b[0m\u001b[1;33m\u001b[0m\u001b[1;33m\u001b[0m\u001b[0m\n\u001b[0;32m     10\u001b[0m     \u001b[1;32mtry\u001b[0m\u001b[1;33m:\u001b[0m\u001b[1;33m\u001b[0m\u001b[1;33m\u001b[0m\u001b[0m\n\u001b[1;32m---> 11\u001b[1;33m         \u001b[0minfo\u001b[0m\u001b[1;33m[\u001b[0m\u001b[1;34m'price'\u001b[0m\u001b[1;33m]\u001b[0m \u001b[1;33m=\u001b[0m \u001b[0mfloat\u001b[0m\u001b[1;33m(\u001b[0m\u001b[0msoup\u001b[0m\u001b[1;33m.\u001b[0m\u001b[0mfind\u001b[0m\u001b[1;33m(\u001b[0m\u001b[1;34m'span'\u001b[0m\u001b[1;33m,\u001b[0m \u001b[0mattrs\u001b[0m\u001b[1;33m=\u001b[0m \u001b[1;33m{\u001b[0m\u001b[1;34m'class'\u001b[0m\u001b[1;33m:\u001b[0m \u001b[1;34m'price'\u001b[0m\u001b[1;33m}\u001b[0m\u001b[1;33m)\u001b[0m\u001b[1;33m.\u001b[0m\u001b[0mcontents\u001b[0m\u001b[1;33m[\u001b[0m\u001b[1;36m0\u001b[0m\u001b[1;33m]\u001b[0m\u001b[1;33m.\u001b[0m\u001b[0mreplace\u001b[0m\u001b[1;33m(\u001b[0m\u001b[1;34m'$'\u001b[0m\u001b[1;33m,\u001b[0m \u001b[1;34m''\u001b[0m\u001b[1;33m)\u001b[0m\u001b[1;33m.\u001b[0m\u001b[0mreplace\u001b[0m\u001b[1;33m(\u001b[0m\u001b[1;34m','\u001b[0m\u001b[1;33m,\u001b[0m \u001b[1;34m''\u001b[0m\u001b[1;33m)\u001b[0m\u001b[1;33m)\u001b[0m\u001b[1;33m\u001b[0m\u001b[1;33m\u001b[0m\u001b[0m\n\u001b[0m\u001b[0;32m     12\u001b[0m \u001b[1;33m\u001b[0m\u001b[0m\n\u001b[0;32m     13\u001b[0m     \u001b[1;32mexcept\u001b[0m \u001b[0mIndexError\u001b[0m \u001b[1;33m:\u001b[0m\u001b[1;33m\u001b[0m\u001b[1;33m\u001b[0m\u001b[0m\n",
      "\u001b[1;31mAttributeError\u001b[0m: 'NoneType' object has no attribute 'contents'"
     ]
    }
   ],
   "source": [
    "scrape_all(url)"
   ]
  },
  {
   "cell_type": "code",
   "execution_count": 84,
   "metadata": {},
   "outputs": [
    {
     "data": {
      "text/plain": [
       "<span class=\"button next\" title=\"next page\"> next &gt; </span>"
      ]
     },
     "execution_count": 84,
     "metadata": {},
     "output_type": "execute_result"
    }
   ],
   "source": [
    "soup.find('span', {'class': 'button next'})"
   ]
  },
  {
   "cell_type": "code",
   "execution_count": 88,
   "metadata": {},
   "outputs": [
    {
     "data": {
      "text/plain": [
       "'/d/apartments-housing-for-rent/search/apa?s=120'"
      ]
     },
     "execution_count": 88,
     "metadata": {},
     "output_type": "execute_result"
    }
   ],
   "source": [
    "soup.find('a', {'class': 'button next'})['href']"
   ]
  }
 ],
 "metadata": {
  "kernelspec": {
   "display_name": "Python 3",
   "language": "python",
   "name": "python3"
  },
  "language_info": {
   "codemirror_mode": {
    "name": "ipython",
    "version": 3
   },
   "file_extension": ".py",
   "mimetype": "text/x-python",
   "name": "python",
   "nbconvert_exporter": "python",
   "pygments_lexer": "ipython3",
   "version": "3.8.3"
  }
 },
 "nbformat": 4,
 "nbformat_minor": 4
}
